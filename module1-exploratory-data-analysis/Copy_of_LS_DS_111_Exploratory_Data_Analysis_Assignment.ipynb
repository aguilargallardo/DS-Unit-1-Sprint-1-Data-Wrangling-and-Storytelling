{
  "nbformat": 4,
  "nbformat_minor": 0,
  "metadata": {
    "colab": {
      "name": "Copy of LS_DS_111_Exploratory_Data_Analysis_Assignment.ipynb",
      "provenance": [],
      "collapsed_sections": [],
      "include_colab_link": true
    },
    "kernelspec": {
      "name": "python3",
      "display_name": "Python 3"
    }
  },
  "cells": [
    {
      "cell_type": "markdown",
      "metadata": {
        "id": "view-in-github",
        "colab_type": "text"
      },
      "source": [
        "<a href=\"https://colab.research.google.com/github/aguilargallardo/DS-Unit-1-Sprint-1-Data-Wrangling-and-Storytelling/blob/master/module1-exploratory-data-analysis/Copy_of_LS_DS_111_Exploratory_Data_Analysis_Assignment.ipynb\" target=\"_parent\"><img src=\"https://colab.research.google.com/assets/colab-badge.svg\" alt=\"Open In Colab\"/></a>"
      ]
    },
    {
      "cell_type": "markdown",
      "metadata": {
        "colab_type": "text",
        "id": "MSnsTgZLKO72"
      },
      "source": [
        "# Practice Loading and Exploring Datasets\n",
        "\n",
        "This assignment is purposely open-ended. You will be asked to load datasets from the [UC-Irvine Machine Learning Repository](https://archive.ics.uci.edu/ml/index.php). \n",
        "\n",
        "Even though you maybe using different datasets than your fellow classmates, try and be supportive and assist each other in the challenges that you are facing. You will only deepend your understanding of these topics as you work to assist one another. Many popular UCI datasets face similar data loading challenges.\n",
        "\n",
        "Remember that the UCI datasets do not necessarily have a file type of `.csv` so it's important that you learn as much as you can about the dataset before you try and load it. See if you can look at the raw text of the file either locally or using the `!curl` shell command -or in some other way before you try and read it in as a dataframe. This will help you catch what would otherwise be unforseen problems.\n",
        "\n",
        "Feel free to embellish this notebook with additional markdown cells,code cells, comments, graphs, etc. Whatever you think helps adequately address the questions."
      ]
    },
    {
      "cell_type": "markdown",
      "metadata": {
        "id": "156P6ndeKojO",
        "colab_type": "text"
      },
      "source": [
        "## 1) Load a dataset from UCI (via its URL)\n",
        "\n",
        "Please navigate to the home page and choose a dataset (other than the Adult dataset) from the \"Most Popular\" section on the right-hand side of the home page. Load the dataset via its URL and check the following (show your work):\n",
        "\n",
        "- Are the headers showing up properly?\n",
        "- Look at the first 5 and the last 5 rows, do they seem to be in order?\n",
        "- Does the dataset have the correct number of rows and columns as described in the UCI page? \n",
        " - Remember, that UCI does not count the y variable (column of values that we might want to predict via a machine learning model) as an \"attribute\" but rather as a \"class attribute\" so you may end up seeing a number of columns that is one greater than the number listed on the UCI website.\n",
        "- Does UCI list this dataset as having missing values? Check for missing values and see if your analysis corroborates what UCI reports?\n",
        "- if `NaN` values or other missing value indicators are not being detected by `df.isnull().sum()` find a way to replace whatever is indicating the missing values with `np.NaN`.\n",
        "- Use the .describe() function in order to see the summary statistics of both the numeric and non-numeric columns. "
      ]
    },
    {
      "cell_type": "code",
      "metadata": {
        "id": "NJdISe69ZT7E",
        "colab_type": "code",
        "colab": {
          "base_uri": "https://localhost:8080/",
          "height": 204
        },
        "outputId": "12885465-6d38-4c0a-9ef3-5d9d572439b1"
      },
      "source": [
        "# TODO your work here!\n",
        "# And note you should write comments, descriptions, and add new\n",
        "# code and text blocks as needed\n",
        "\n",
        "import pandas as pd\n",
        "\n",
        "car_data = 'https://archive.ics.uci.edu/ml/machine-learning-databases/car/car.data'\n",
        "cars = pd.read_csv(car_data)\n",
        "cars.head()\n",
        "#data needs to have a new column header"
      ],
      "execution_count": 38,
      "outputs": [
        {
          "output_type": "execute_result",
          "data": {
            "text/html": [
              "<div>\n",
              "<style scoped>\n",
              "    .dataframe tbody tr th:only-of-type {\n",
              "        vertical-align: middle;\n",
              "    }\n",
              "\n",
              "    .dataframe tbody tr th {\n",
              "        vertical-align: top;\n",
              "    }\n",
              "\n",
              "    .dataframe thead th {\n",
              "        text-align: right;\n",
              "    }\n",
              "</style>\n",
              "<table border=\"1\" class=\"dataframe\">\n",
              "  <thead>\n",
              "    <tr style=\"text-align: right;\">\n",
              "      <th></th>\n",
              "      <th>vhigh</th>\n",
              "      <th>vhigh.1</th>\n",
              "      <th>2</th>\n",
              "      <th>2.1</th>\n",
              "      <th>small</th>\n",
              "      <th>low</th>\n",
              "      <th>unacc</th>\n",
              "    </tr>\n",
              "  </thead>\n",
              "  <tbody>\n",
              "    <tr>\n",
              "      <th>0</th>\n",
              "      <td>vhigh</td>\n",
              "      <td>vhigh</td>\n",
              "      <td>2</td>\n",
              "      <td>2</td>\n",
              "      <td>small</td>\n",
              "      <td>med</td>\n",
              "      <td>unacc</td>\n",
              "    </tr>\n",
              "    <tr>\n",
              "      <th>1</th>\n",
              "      <td>vhigh</td>\n",
              "      <td>vhigh</td>\n",
              "      <td>2</td>\n",
              "      <td>2</td>\n",
              "      <td>small</td>\n",
              "      <td>high</td>\n",
              "      <td>unacc</td>\n",
              "    </tr>\n",
              "    <tr>\n",
              "      <th>2</th>\n",
              "      <td>vhigh</td>\n",
              "      <td>vhigh</td>\n",
              "      <td>2</td>\n",
              "      <td>2</td>\n",
              "      <td>med</td>\n",
              "      <td>low</td>\n",
              "      <td>unacc</td>\n",
              "    </tr>\n",
              "    <tr>\n",
              "      <th>3</th>\n",
              "      <td>vhigh</td>\n",
              "      <td>vhigh</td>\n",
              "      <td>2</td>\n",
              "      <td>2</td>\n",
              "      <td>med</td>\n",
              "      <td>med</td>\n",
              "      <td>unacc</td>\n",
              "    </tr>\n",
              "    <tr>\n",
              "      <th>4</th>\n",
              "      <td>vhigh</td>\n",
              "      <td>vhigh</td>\n",
              "      <td>2</td>\n",
              "      <td>2</td>\n",
              "      <td>med</td>\n",
              "      <td>high</td>\n",
              "      <td>unacc</td>\n",
              "    </tr>\n",
              "  </tbody>\n",
              "</table>\n",
              "</div>"
            ],
            "text/plain": [
              "   vhigh vhigh.1  2 2.1  small   low  unacc\n",
              "0  vhigh   vhigh  2   2  small   med  unacc\n",
              "1  vhigh   vhigh  2   2  small  high  unacc\n",
              "2  vhigh   vhigh  2   2    med   low  unacc\n",
              "3  vhigh   vhigh  2   2    med   med  unacc\n",
              "4  vhigh   vhigh  2   2    med  high  unacc"
            ]
          },
          "metadata": {
            "tags": []
          },
          "execution_count": 38
        }
      ]
    },
    {
      "cell_type": "code",
      "metadata": {
        "id": "n7oJjLZsKUE5",
        "colab_type": "code",
        "colab": {
          "base_uri": "https://localhost:8080/",
          "height": 669
        },
        "outputId": "2bbe2341-4827-458b-f9d1-83742aaf4de5"
      },
      "source": [
        "df = pd.read_csv('car.data')\n",
        "column_headers = [\n",
        "    'Buying',\n",
        "    'Maint',\n",
        "    'Doors',\n",
        "    'Persons',\n",
        "    'Lug_Boot',\n",
        "    'Safety',\n",
        "    'Unacc'\n",
        "]\n",
        "df = pd.read_csv('car.data', header=None, names=column_headers)\n",
        "\n",
        "#df.isnull().sum()\n",
        "# No null values\n",
        "\n",
        "# df.describe()\n",
        "\n",
        "df.head(20)\n"
      ],
      "execution_count": 45,
      "outputs": [
        {
          "output_type": "execute_result",
          "data": {
            "text/html": [
              "<div>\n",
              "<style scoped>\n",
              "    .dataframe tbody tr th:only-of-type {\n",
              "        vertical-align: middle;\n",
              "    }\n",
              "\n",
              "    .dataframe tbody tr th {\n",
              "        vertical-align: top;\n",
              "    }\n",
              "\n",
              "    .dataframe thead th {\n",
              "        text-align: right;\n",
              "    }\n",
              "</style>\n",
              "<table border=\"1\" class=\"dataframe\">\n",
              "  <thead>\n",
              "    <tr style=\"text-align: right;\">\n",
              "      <th></th>\n",
              "      <th>Buying</th>\n",
              "      <th>Maint</th>\n",
              "      <th>Doors</th>\n",
              "      <th>Persons</th>\n",
              "      <th>Lug_Boot</th>\n",
              "      <th>Safety</th>\n",
              "      <th>Unacc</th>\n",
              "    </tr>\n",
              "  </thead>\n",
              "  <tbody>\n",
              "    <tr>\n",
              "      <th>0</th>\n",
              "      <td>vhigh</td>\n",
              "      <td>vhigh</td>\n",
              "      <td>2</td>\n",
              "      <td>2</td>\n",
              "      <td>small</td>\n",
              "      <td>low</td>\n",
              "      <td>unacc</td>\n",
              "    </tr>\n",
              "    <tr>\n",
              "      <th>1</th>\n",
              "      <td>vhigh</td>\n",
              "      <td>vhigh</td>\n",
              "      <td>2</td>\n",
              "      <td>2</td>\n",
              "      <td>small</td>\n",
              "      <td>med</td>\n",
              "      <td>unacc</td>\n",
              "    </tr>\n",
              "    <tr>\n",
              "      <th>2</th>\n",
              "      <td>vhigh</td>\n",
              "      <td>vhigh</td>\n",
              "      <td>2</td>\n",
              "      <td>2</td>\n",
              "      <td>small</td>\n",
              "      <td>high</td>\n",
              "      <td>unacc</td>\n",
              "    </tr>\n",
              "    <tr>\n",
              "      <th>3</th>\n",
              "      <td>vhigh</td>\n",
              "      <td>vhigh</td>\n",
              "      <td>2</td>\n",
              "      <td>2</td>\n",
              "      <td>med</td>\n",
              "      <td>low</td>\n",
              "      <td>unacc</td>\n",
              "    </tr>\n",
              "    <tr>\n",
              "      <th>4</th>\n",
              "      <td>vhigh</td>\n",
              "      <td>vhigh</td>\n",
              "      <td>2</td>\n",
              "      <td>2</td>\n",
              "      <td>med</td>\n",
              "      <td>med</td>\n",
              "      <td>unacc</td>\n",
              "    </tr>\n",
              "    <tr>\n",
              "      <th>5</th>\n",
              "      <td>vhigh</td>\n",
              "      <td>vhigh</td>\n",
              "      <td>2</td>\n",
              "      <td>2</td>\n",
              "      <td>med</td>\n",
              "      <td>high</td>\n",
              "      <td>unacc</td>\n",
              "    </tr>\n",
              "    <tr>\n",
              "      <th>6</th>\n",
              "      <td>vhigh</td>\n",
              "      <td>vhigh</td>\n",
              "      <td>2</td>\n",
              "      <td>2</td>\n",
              "      <td>big</td>\n",
              "      <td>low</td>\n",
              "      <td>unacc</td>\n",
              "    </tr>\n",
              "    <tr>\n",
              "      <th>7</th>\n",
              "      <td>vhigh</td>\n",
              "      <td>vhigh</td>\n",
              "      <td>2</td>\n",
              "      <td>2</td>\n",
              "      <td>big</td>\n",
              "      <td>med</td>\n",
              "      <td>unacc</td>\n",
              "    </tr>\n",
              "    <tr>\n",
              "      <th>8</th>\n",
              "      <td>vhigh</td>\n",
              "      <td>vhigh</td>\n",
              "      <td>2</td>\n",
              "      <td>2</td>\n",
              "      <td>big</td>\n",
              "      <td>high</td>\n",
              "      <td>unacc</td>\n",
              "    </tr>\n",
              "    <tr>\n",
              "      <th>9</th>\n",
              "      <td>vhigh</td>\n",
              "      <td>vhigh</td>\n",
              "      <td>2</td>\n",
              "      <td>4</td>\n",
              "      <td>small</td>\n",
              "      <td>low</td>\n",
              "      <td>unacc</td>\n",
              "    </tr>\n",
              "    <tr>\n",
              "      <th>10</th>\n",
              "      <td>vhigh</td>\n",
              "      <td>vhigh</td>\n",
              "      <td>2</td>\n",
              "      <td>4</td>\n",
              "      <td>small</td>\n",
              "      <td>med</td>\n",
              "      <td>unacc</td>\n",
              "    </tr>\n",
              "    <tr>\n",
              "      <th>11</th>\n",
              "      <td>vhigh</td>\n",
              "      <td>vhigh</td>\n",
              "      <td>2</td>\n",
              "      <td>4</td>\n",
              "      <td>small</td>\n",
              "      <td>high</td>\n",
              "      <td>unacc</td>\n",
              "    </tr>\n",
              "    <tr>\n",
              "      <th>12</th>\n",
              "      <td>vhigh</td>\n",
              "      <td>vhigh</td>\n",
              "      <td>2</td>\n",
              "      <td>4</td>\n",
              "      <td>med</td>\n",
              "      <td>low</td>\n",
              "      <td>unacc</td>\n",
              "    </tr>\n",
              "    <tr>\n",
              "      <th>13</th>\n",
              "      <td>vhigh</td>\n",
              "      <td>vhigh</td>\n",
              "      <td>2</td>\n",
              "      <td>4</td>\n",
              "      <td>med</td>\n",
              "      <td>med</td>\n",
              "      <td>unacc</td>\n",
              "    </tr>\n",
              "    <tr>\n",
              "      <th>14</th>\n",
              "      <td>vhigh</td>\n",
              "      <td>vhigh</td>\n",
              "      <td>2</td>\n",
              "      <td>4</td>\n",
              "      <td>med</td>\n",
              "      <td>high</td>\n",
              "      <td>unacc</td>\n",
              "    </tr>\n",
              "    <tr>\n",
              "      <th>15</th>\n",
              "      <td>vhigh</td>\n",
              "      <td>vhigh</td>\n",
              "      <td>2</td>\n",
              "      <td>4</td>\n",
              "      <td>big</td>\n",
              "      <td>low</td>\n",
              "      <td>unacc</td>\n",
              "    </tr>\n",
              "    <tr>\n",
              "      <th>16</th>\n",
              "      <td>vhigh</td>\n",
              "      <td>vhigh</td>\n",
              "      <td>2</td>\n",
              "      <td>4</td>\n",
              "      <td>big</td>\n",
              "      <td>med</td>\n",
              "      <td>unacc</td>\n",
              "    </tr>\n",
              "    <tr>\n",
              "      <th>17</th>\n",
              "      <td>vhigh</td>\n",
              "      <td>vhigh</td>\n",
              "      <td>2</td>\n",
              "      <td>4</td>\n",
              "      <td>big</td>\n",
              "      <td>high</td>\n",
              "      <td>unacc</td>\n",
              "    </tr>\n",
              "    <tr>\n",
              "      <th>18</th>\n",
              "      <td>vhigh</td>\n",
              "      <td>vhigh</td>\n",
              "      <td>2</td>\n",
              "      <td>more</td>\n",
              "      <td>small</td>\n",
              "      <td>low</td>\n",
              "      <td>unacc</td>\n",
              "    </tr>\n",
              "    <tr>\n",
              "      <th>19</th>\n",
              "      <td>vhigh</td>\n",
              "      <td>vhigh</td>\n",
              "      <td>2</td>\n",
              "      <td>more</td>\n",
              "      <td>small</td>\n",
              "      <td>med</td>\n",
              "      <td>unacc</td>\n",
              "    </tr>\n",
              "  </tbody>\n",
              "</table>\n",
              "</div>"
            ],
            "text/plain": [
              "   Buying  Maint Doors Persons Lug_Boot Safety  Unacc\n",
              "0   vhigh  vhigh     2       2    small    low  unacc\n",
              "1   vhigh  vhigh     2       2    small    med  unacc\n",
              "2   vhigh  vhigh     2       2    small   high  unacc\n",
              "3   vhigh  vhigh     2       2      med    low  unacc\n",
              "4   vhigh  vhigh     2       2      med    med  unacc\n",
              "5   vhigh  vhigh     2       2      med   high  unacc\n",
              "6   vhigh  vhigh     2       2      big    low  unacc\n",
              "7   vhigh  vhigh     2       2      big    med  unacc\n",
              "8   vhigh  vhigh     2       2      big   high  unacc\n",
              "9   vhigh  vhigh     2       4    small    low  unacc\n",
              "10  vhigh  vhigh     2       4    small    med  unacc\n",
              "11  vhigh  vhigh     2       4    small   high  unacc\n",
              "12  vhigh  vhigh     2       4      med    low  unacc\n",
              "13  vhigh  vhigh     2       4      med    med  unacc\n",
              "14  vhigh  vhigh     2       4      med   high  unacc\n",
              "15  vhigh  vhigh     2       4      big    low  unacc\n",
              "16  vhigh  vhigh     2       4      big    med  unacc\n",
              "17  vhigh  vhigh     2       4      big   high  unacc\n",
              "18  vhigh  vhigh     2    more    small    low  unacc\n",
              "19  vhigh  vhigh     2    more    small    med  unacc"
            ]
          },
          "metadata": {
            "tags": []
          },
          "execution_count": 45
        }
      ]
    },
    {
      "cell_type": "markdown",
      "metadata": {
        "id": "-gFnZR6iLLPY",
        "colab_type": "text"
      },
      "source": [
        "## 2) Load a dataset from your local machine.\n",
        "Choose a second dataset from the \"Popular Datasets\" listing on UCI, but this time download it to your local machine instead of reading it in via the URL. Upload the file to Google Colab using the files tab in the left-hand sidebar or by importing `files` from `google.colab` The following link will be a useful resource if you can't remember the syntax: <https://towardsdatascience.com/3-ways-to-load-csv-files-into-colab-7c14fcbdcb92>\n",
        "\n",
        "- Answer all of the same bullet point questions from part 1 again on this new dataset. \n"
      ]
    },
    {
      "cell_type": "code",
      "metadata": {
        "id": "qUmwX-ZoM9cq",
        "colab_type": "code",
        "colab": {
          "resources": {
            "http://localhost:8080/nbextensions/google.colab/files.js": {
              "data": "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",
              "ok": true,
              "headers": [
                [
                  "content-type",
                  "application/javascript"
                ]
              ],
              "status": 200,
              "status_text": ""
            }
          },
          "base_uri": "https://localhost:8080/",
          "height": 111
        },
        "outputId": "d26998ed-f401-449e-aed3-ab69328f3a34"
      },
      "source": [
        "# TODO your work here!\n",
        "# And note you should write comments, descriptions, and add new\n",
        "# code and text blocks as needed\n",
        "\n",
        "import pandas as pd\n",
        "\n",
        "from google.colab import files\n",
        "files.upload()\n"
      ],
      "execution_count": 25,
      "outputs": [
        {
          "output_type": "display_data",
          "data": {
            "text/html": [
              "\n",
              "     <input type=\"file\" id=\"files-af4818f9-25d0-4c38-bdd3-527daf4f06e8\" name=\"files[]\" multiple disabled />\n",
              "     <output id=\"result-af4818f9-25d0-4c38-bdd3-527daf4f06e8\">\n",
              "      Upload widget is only available when the cell has been executed in the\n",
              "      current browser session. Please rerun this cell to enable.\n",
              "      </output>\n",
              "      <script src=\"/nbextensions/google.colab/files.js\"></script> "
            ],
            "text/plain": [
              "<IPython.core.display.HTML object>"
            ]
          },
          "metadata": {
            "tags": []
          }
        },
        {
          "output_type": "stream",
          "text": [
            "Saving car.data to car (3).data\n"
          ],
          "name": "stdout"
        },
        {
          "output_type": "execute_result",
          "data": {
            "text/plain": [
              "{'car.data': b'vhigh,vhigh,2,2,small,low,unacc\\nvhigh,vhigh,2,2,small,med,unacc\\nvhigh,vhigh,2,2,small,high,unacc\\nvhigh,vhigh,2,2,med,low,unacc\\nvhigh,vhigh,2,2,med,med,unacc\\nvhigh,vhigh,2,2,med,high,unacc\\nvhigh,vhigh,2,2,big,low,unacc\\nvhigh,vhigh,2,2,big,med,unacc\\nvhigh,vhigh,2,2,big,high,unacc\\nvhigh,vhigh,2,4,small,low,unacc\\nvhigh,vhigh,2,4,small,med,unacc\\nvhigh,vhigh,2,4,small,high,unacc\\nvhigh,vhigh,2,4,med,low,unacc\\nvhigh,vhigh,2,4,med,med,unacc\\nvhigh,vhigh,2,4,med,high,unacc\\nvhigh,vhigh,2,4,big,low,unacc\\nvhigh,vhigh,2,4,big,med,unacc\\nvhigh,vhigh,2,4,big,high,unacc\\nvhigh,vhigh,2,more,small,low,unacc\\nvhigh,vhigh,2,more,small,med,unacc\\nvhigh,vhigh,2,more,small,high,unacc\\nvhigh,vhigh,2,more,med,low,unacc\\nvhigh,vhigh,2,more,med,med,unacc\\nvhigh,vhigh,2,more,med,high,unacc\\nvhigh,vhigh,2,more,big,low,unacc\\nvhigh,vhigh,2,more,big,med,unacc\\nvhigh,vhigh,2,more,big,high,unacc\\nvhigh,vhigh,3,2,small,low,unacc\\nvhigh,vhigh,3,2,small,med,unacc\\nvhigh,vhigh,3,2,small,high,unacc\\nvhigh,vhigh,3,2,med,low,unacc\\nvhigh,vhigh,3,2,med,med,unacc\\nvhigh,vhigh,3,2,med,high,unacc\\nvhigh,vhigh,3,2,big,low,unacc\\nvhigh,vhigh,3,2,big,med,unacc\\nvhigh,vhigh,3,2,big,high,unacc\\nvhigh,vhigh,3,4,small,low,unacc\\nvhigh,vhigh,3,4,small,med,unacc\\nvhigh,vhigh,3,4,small,high,unacc\\nvhigh,vhigh,3,4,med,low,unacc\\nvhigh,vhigh,3,4,med,med,unacc\\nvhigh,vhigh,3,4,med,high,unacc\\nvhigh,vhigh,3,4,big,low,unacc\\nvhigh,vhigh,3,4,big,med,unacc\\nvhigh,vhigh,3,4,big,high,unacc\\nvhigh,vhigh,3,more,small,low,unacc\\nvhigh,vhigh,3,more,small,med,unacc\\nvhigh,vhigh,3,more,small,high,unacc\\nvhigh,vhigh,3,more,med,low,unacc\\nvhigh,vhigh,3,more,med,med,unacc\\nvhigh,vhigh,3,more,med,high,unacc\\nvhigh,vhigh,3,more,big,low,unacc\\nvhigh,vhigh,3,more,big,med,unacc\\nvhigh,vhigh,3,more,big,high,unacc\\nvhigh,vhigh,4,2,small,low,unacc\\nvhigh,vhigh,4,2,small,med,unacc\\nvhigh,vhigh,4,2,small,high,unacc\\nvhigh,vhigh,4,2,med,low,unacc\\nvhigh,vhigh,4,2,med,med,unacc\\nvhigh,vhigh,4,2,med,high,unacc\\nvhigh,vhigh,4,2,big,low,unacc\\nvhigh,vhigh,4,2,big,med,unacc\\nvhigh,vhigh,4,2,big,high,unacc\\nvhigh,vhigh,4,4,small,low,unacc\\nvhigh,vhigh,4,4,small,med,unacc\\nvhigh,vhigh,4,4,small,high,unacc\\nvhigh,vhigh,4,4,med,low,unacc\\nvhigh,vhigh,4,4,med,med,unacc\\nvhigh,vhigh,4,4,med,high,unacc\\nvhigh,vhigh,4,4,big,low,unacc\\nvhigh,vhigh,4,4,big,med,unacc\\nvhigh,vhigh,4,4,big,high,unacc\\nvhigh,vhigh,4,more,small,low,unacc\\nvhigh,vhigh,4,more,small,med,unacc\\nvhigh,vhigh,4,more,small,high,unacc\\nvhigh,vhigh,4,more,med,low,unacc\\nvhigh,vhigh,4,more,med,med,unacc\\nvhigh,vhigh,4,more,med,high,unacc\\nvhigh,vhigh,4,more,big,low,unacc\\nvhigh,vhigh,4,more,big,med,unacc\\nvhigh,vhigh,4,more,big,high,unacc\\nvhigh,vhigh,5more,2,small,low,unacc\\nvhigh,vhigh,5more,2,small,med,unacc\\nvhigh,vhigh,5more,2,small,high,unacc\\nvhigh,vhigh,5more,2,med,low,unacc\\nvhigh,vhigh,5more,2,med,med,unacc\\nvhigh,vhigh,5more,2,med,high,unacc\\nvhigh,vhigh,5more,2,big,low,unacc\\nvhigh,vhigh,5more,2,big,med,unacc\\nvhigh,vhigh,5more,2,big,high,unacc\\nvhigh,vhigh,5more,4,small,low,unacc\\nvhigh,vhigh,5more,4,small,med,unacc\\nvhigh,vhigh,5more,4,small,high,unacc\\nvhigh,vhigh,5more,4,med,low,unacc\\nvhigh,vhigh,5more,4,med,med,unacc\\nvhigh,vhigh,5more,4,med,high,unacc\\nvhigh,vhigh,5more,4,big,low,unacc\\nvhigh,vhigh,5more,4,big,med,unacc\\nvhigh,vhigh,5more,4,big,high,unacc\\nvhigh,vhigh,5more,more,small,low,unacc\\nvhigh,vhigh,5more,more,small,med,unacc\\nvhigh,vhigh,5more,more,small,high,unacc\\nvhigh,vhigh,5more,more,med,low,unacc\\nvhigh,vhigh,5more,more,med,med,unacc\\nvhigh,vhigh,5more,more,med,high,unacc\\nvhigh,vhigh,5more,more,big,low,unacc\\nvhigh,vhigh,5more,more,big,med,unacc\\nvhigh,vhigh,5more,more,big,high,unacc\\nvhigh,high,2,2,small,low,unacc\\nvhigh,high,2,2,small,med,unacc\\nvhigh,high,2,2,small,high,unacc\\nvhigh,high,2,2,med,low,unacc\\nvhigh,high,2,2,med,med,unacc\\nvhigh,high,2,2,med,high,unacc\\nvhigh,high,2,2,big,low,unacc\\nvhigh,high,2,2,big,med,unacc\\nvhigh,high,2,2,big,high,unacc\\nvhigh,high,2,4,small,low,unacc\\nvhigh,high,2,4,small,med,unacc\\nvhigh,high,2,4,small,high,unacc\\nvhigh,high,2,4,med,low,unacc\\nvhigh,high,2,4,med,med,unacc\\nvhigh,high,2,4,med,high,unacc\\nvhigh,high,2,4,big,low,unacc\\nvhigh,high,2,4,big,med,unacc\\nvhigh,high,2,4,big,high,unacc\\nvhigh,high,2,more,small,low,unacc\\nvhigh,high,2,more,small,med,unacc\\nvhigh,high,2,more,small,high,unacc\\nvhigh,high,2,more,med,low,unacc\\nvhigh,high,2,more,med,med,unacc\\nvhigh,high,2,more,med,high,unacc\\nvhigh,high,2,more,big,low,unacc\\nvhigh,high,2,more,big,med,unacc\\nvhigh,high,2,more,big,high,unacc\\nvhigh,high,3,2,small,low,unacc\\nvhigh,high,3,2,small,med,unacc\\nvhigh,high,3,2,small,high,unacc\\nvhigh,high,3,2,med,low,unacc\\nvhigh,high,3,2,med,med,unacc\\nvhigh,high,3,2,med,high,unacc\\nvhigh,high,3,2,big,low,unacc\\nvhigh,high,3,2,big,med,unacc\\nvhigh,high,3,2,big,high,unacc\\nvhigh,high,3,4,small,low,unacc\\nvhigh,high,3,4,small,med,unacc\\nvhigh,high,3,4,small,high,unacc\\nvhigh,high,3,4,med,low,unacc\\nvhigh,high,3,4,med,med,unacc\\nvhigh,high,3,4,med,high,unacc\\nvhigh,high,3,4,big,low,unacc\\nvhigh,high,3,4,big,med,unacc\\nvhigh,high,3,4,big,high,unacc\\nvhigh,high,3,more,small,low,unacc\\nvhigh,high,3,more,small,med,unacc\\nvhigh,high,3,more,small,high,unacc\\nvhigh,high,3,more,med,low,unacc\\nvhigh,high,3,more,med,med,unacc\\nvhigh,high,3,more,med,high,unacc\\nvhigh,high,3,more,big,low,unacc\\nvhigh,high,3,more,big,med,unacc\\nvhigh,high,3,more,big,high,unacc\\nvhigh,high,4,2,small,low,unacc\\nvhigh,high,4,2,small,med,unacc\\nvhigh,high,4,2,small,high,unacc\\nvhigh,high,4,2,med,low,unacc\\nvhigh,high,4,2,med,med,unacc\\nvhigh,high,4,2,med,high,unacc\\nvhigh,high,4,2,big,low,unacc\\nvhigh,high,4,2,big,med,unacc\\nvhigh,high,4,2,big,high,unacc\\nvhigh,high,4,4,small,low,unacc\\nvhigh,high,4,4,small,med,unacc\\nvhigh,high,4,4,small,high,unacc\\nvhigh,high,4,4,med,low,unacc\\nvhigh,high,4,4,med,med,unacc\\nvhigh,high,4,4,med,high,unacc\\nvhigh,high,4,4,big,low,unacc\\nvhigh,high,4,4,big,med,unacc\\nvhigh,high,4,4,big,high,unacc\\nvhigh,high,4,more,small,low,unacc\\nvhigh,high,4,more,small,med,unacc\\nvhigh,high,4,more,small,high,unacc\\nvhigh,high,4,more,med,low,unacc\\nvhigh,high,4,more,med,med,unacc\\nvhigh,high,4,more,med,high,unacc\\nvhigh,high,4,more,big,low,unacc\\nvhigh,high,4,more,big,med,unacc\\nvhigh,high,4,more,big,high,unacc\\nvhigh,high,5more,2,small,low,unacc\\nvhigh,high,5more,2,small,med,unacc\\nvhigh,high,5more,2,small,high,unacc\\nvhigh,high,5more,2,med,low,unacc\\nvhigh,high,5more,2,med,med,unacc\\nvhigh,high,5more,2,med,high,unacc\\nvhigh,high,5more,2,big,low,unacc\\nvhigh,high,5more,2,big,med,unacc\\nvhigh,high,5more,2,big,high,unacc\\nvhigh,high,5more,4,small,low,unacc\\nvhigh,high,5more,4,small,med,unacc\\nvhigh,high,5more,4,small,high,unacc\\nvhigh,high,5more,4,med,low,unacc\\nvhigh,high,5more,4,med,med,unacc\\nvhigh,high,5more,4,med,high,unacc\\nvhigh,high,5more,4,big,low,unacc\\nvhigh,high,5more,4,big,med,unacc\\nvhigh,high,5more,4,big,high,unacc\\nvhigh,high,5more,more,small,low,unacc\\nvhigh,high,5more,more,small,med,unacc\\nvhigh,high,5more,more,small,high,unacc\\nvhigh,high,5more,more,med,low,unacc\\nvhigh,high,5more,more,med,med,unacc\\nvhigh,high,5more,more,med,high,unacc\\nvhigh,high,5more,more,big,low,unacc\\nvhigh,high,5more,more,big,med,unacc\\nvhigh,high,5more,more,big,high,unacc\\nvhigh,med,2,2,small,low,unacc\\nvhigh,med,2,2,small,med,unacc\\nvhigh,med,2,2,small,high,unacc\\nvhigh,med,2,2,med,low,unacc\\nvhigh,med,2,2,med,med,unacc\\nvhigh,med,2,2,med,high,unacc\\nvhigh,med,2,2,big,low,unacc\\nvhigh,med,2,2,big,med,unacc\\nvhigh,med,2,2,big,high,unacc\\nvhigh,med,2,4,small,low,unacc\\nvhigh,med,2,4,small,med,unacc\\nvhigh,med,2,4,small,high,acc\\nvhigh,med,2,4,med,low,unacc\\nvhigh,med,2,4,med,med,unacc\\nvhigh,med,2,4,med,high,acc\\nvhigh,med,2,4,big,low,unacc\\nvhigh,med,2,4,big,med,acc\\nvhigh,med,2,4,big,high,acc\\nvhigh,med,2,more,small,low,unacc\\nvhigh,med,2,more,small,med,unacc\\nvhigh,med,2,more,small,high,unacc\\nvhigh,med,2,more,med,low,unacc\\nvhigh,med,2,more,med,med,unacc\\nvhigh,med,2,more,med,high,acc\\nvhigh,med,2,more,big,low,unacc\\nvhigh,med,2,more,big,med,acc\\nvhigh,med,2,more,big,high,acc\\nvhigh,med,3,2,small,low,unacc\\nvhigh,med,3,2,small,med,unacc\\nvhigh,med,3,2,small,high,unacc\\nvhigh,med,3,2,med,low,unacc\\nvhigh,med,3,2,med,med,unacc\\nvhigh,med,3,2,med,high,unacc\\nvhigh,med,3,2,big,low,unacc\\nvhigh,med,3,2,big,med,unacc\\nvhigh,med,3,2,big,high,unacc\\nvhigh,med,3,4,small,low,unacc\\nvhigh,med,3,4,small,med,unacc\\nvhigh,med,3,4,small,high,acc\\nvhigh,med,3,4,med,low,unacc\\nvhigh,med,3,4,med,med,unacc\\nvhigh,med,3,4,med,high,acc\\nvhigh,med,3,4,big,low,unacc\\nvhigh,med,3,4,big,med,acc\\nvhigh,med,3,4,big,high,acc\\nvhigh,med,3,more,small,low,unacc\\nvhigh,med,3,more,small,med,unacc\\nvhigh,med,3,more,small,high,acc\\nvhigh,med,3,more,med,low,unacc\\nvhigh,med,3,more,med,med,acc\\nvhigh,med,3,more,med,high,acc\\nvhigh,med,3,more,big,low,unacc\\nvhigh,med,3,more,big,med,acc\\nvhigh,med,3,more,big,high,acc\\nvhigh,med,4,2,small,low,unacc\\nvhigh,med,4,2,small,med,unacc\\nvhigh,med,4,2,small,high,unacc\\nvhigh,med,4,2,med,low,unacc\\nvhigh,med,4,2,med,med,unacc\\nvhigh,med,4,2,med,high,unacc\\nvhigh,med,4,2,big,low,unacc\\nvhigh,med,4,2,big,med,unacc\\nvhigh,med,4,2,big,high,unacc\\nvhigh,med,4,4,small,low,unacc\\nvhigh,med,4,4,small,med,unacc\\nvhigh,med,4,4,small,high,acc\\nvhigh,med,4,4,med,low,unacc\\nvhigh,med,4,4,med,med,acc\\nvhigh,med,4,4,med,high,acc\\nvhigh,med,4,4,big,low,unacc\\nvhigh,med,4,4,big,med,acc\\nvhigh,med,4,4,big,high,acc\\nvhigh,med,4,more,small,low,unacc\\nvhigh,med,4,more,small,med,unacc\\nvhigh,med,4,more,small,high,acc\\nvhigh,med,4,more,med,low,unacc\\nvhigh,med,4,more,med,med,acc\\nvhigh,med,4,more,med,high,acc\\nvhigh,med,4,more,big,low,unacc\\nvhigh,med,4,more,big,med,acc\\nvhigh,med,4,more,big,high,acc\\nvhigh,med,5more,2,small,low,unacc\\nvhigh,med,5more,2,small,med,unacc\\nvhigh,med,5more,2,small,high,unacc\\nvhigh,med,5more,2,med,low,unacc\\nvhigh,med,5more,2,med,med,unacc\\nvhigh,med,5more,2,med,high,unacc\\nvhigh,med,5more,2,big,low,unacc\\nvhigh,med,5more,2,big,med,unacc\\nvhigh,med,5more,2,big,high,unacc\\nvhigh,med,5more,4,small,low,unacc\\nvhigh,med,5more,4,small,med,unacc\\nvhigh,med,5more,4,small,high,acc\\nvhigh,med,5more,4,med,low,unacc\\nvhigh,med,5more,4,med,med,acc\\nvhigh,med,5more,4,med,high,acc\\nvhigh,med,5more,4,big,low,unacc\\nvhigh,med,5more,4,big,med,acc\\nvhigh,med,5more,4,big,high,acc\\nvhigh,med,5more,more,small,low,unacc\\nvhigh,med,5more,more,small,med,unacc\\nvhigh,med,5more,more,small,high,acc\\nvhigh,med,5more,more,med,low,unacc\\nvhigh,med,5more,more,med,med,acc\\nvhigh,med,5more,more,med,high,acc\\nvhigh,med,5more,more,big,low,unacc\\nvhigh,med,5more,more,big,med,acc\\nvhigh,med,5more,more,big,high,acc\\nvhigh,low,2,2,small,low,unacc\\nvhigh,low,2,2,small,med,unacc\\nvhigh,low,2,2,small,high,unacc\\nvhigh,low,2,2,med,low,unacc\\nvhigh,low,2,2,med,med,unacc\\nvhigh,low,2,2,med,high,unacc\\nvhigh,low,2,2,big,low,unacc\\nvhigh,low,2,2,big,med,unacc\\nvhigh,low,2,2,big,high,unacc\\nvhigh,low,2,4,small,low,unacc\\nvhigh,low,2,4,small,med,unacc\\nvhigh,low,2,4,small,high,acc\\nvhigh,low,2,4,med,low,unacc\\nvhigh,low,2,4,med,med,unacc\\nvhigh,low,2,4,med,high,acc\\nvhigh,low,2,4,big,low,unacc\\nvhigh,low,2,4,big,med,acc\\nvhigh,low,2,4,big,high,acc\\nvhigh,low,2,more,small,low,unacc\\nvhigh,low,2,more,small,med,unacc\\nvhigh,low,2,more,small,high,unacc\\nvhigh,low,2,more,med,low,unacc\\nvhigh,low,2,more,med,med,unacc\\nvhigh,low,2,more,med,high,acc\\nvhigh,low,2,more,big,low,unacc\\nvhigh,low,2,more,big,med,acc\\nvhigh,low,2,more,big,high,acc\\nvhigh,low,3,2,small,low,unacc\\nvhigh,low,3,2,small,med,unacc\\nvhigh,low,3,2,small,high,unacc\\nvhigh,low,3,2,med,low,unacc\\nvhigh,low,3,2,med,med,unacc\\nvhigh,low,3,2,med,high,unacc\\nvhigh,low,3,2,big,low,unacc\\nvhigh,low,3,2,big,med,unacc\\nvhigh,low,3,2,big,high,unacc\\nvhigh,low,3,4,small,low,unacc\\nvhigh,low,3,4,small,med,unacc\\nvhigh,low,3,4,small,high,acc\\nvhigh,low,3,4,med,low,unacc\\nvhigh,low,3,4,med,med,unacc\\nvhigh,low,3,4,med,high,acc\\nvhigh,low,3,4,big,low,unacc\\nvhigh,low,3,4,big,med,acc\\nvhigh,low,3,4,big,high,acc\\nvhigh,low,3,more,small,low,unacc\\nvhigh,low,3,more,small,med,unacc\\nvhigh,low,3,more,small,high,acc\\nvhigh,low,3,more,med,low,unacc\\nvhigh,low,3,more,med,med,acc\\nvhigh,low,3,more,med,high,acc\\nvhigh,low,3,more,big,low,unacc\\nvhigh,low,3,more,big,med,acc\\nvhigh,low,3,more,big,high,acc\\nvhigh,low,4,2,small,low,unacc\\nvhigh,low,4,2,small,med,unacc\\nvhigh,low,4,2,small,high,unacc\\nvhigh,low,4,2,med,low,unacc\\nvhigh,low,4,2,med,med,unacc\\nvhigh,low,4,2,med,high,unacc\\nvhigh,low,4,2,big,low,unacc\\nvhigh,low,4,2,big,med,unacc\\nvhigh,low,4,2,big,high,unacc\\nvhigh,low,4,4,small,low,unacc\\nvhigh,low,4,4,small,med,unacc\\nvhigh,low,4,4,small,high,acc\\nvhigh,low,4,4,med,low,unacc\\nvhigh,low,4,4,med,med,acc\\nvhigh,low,4,4,med,high,acc\\nvhigh,low,4,4,big,low,unacc\\nvhigh,low,4,4,big,med,acc\\nvhigh,low,4,4,big,high,acc\\nvhigh,low,4,more,small,low,unacc\\nvhigh,low,4,more,small,med,unacc\\nvhigh,low,4,more,small,high,acc\\nvhigh,low,4,more,med,low,unacc\\nvhigh,low,4,more,med,med,acc\\nvhigh,low,4,more,med,high,acc\\nvhigh,low,4,more,big,low,unacc\\nvhigh,low,4,more,big,med,acc\\nvhigh,low,4,more,big,high,acc\\nvhigh,low,5more,2,small,low,unacc\\nvhigh,low,5more,2,small,med,unacc\\nvhigh,low,5more,2,small,high,unacc\\nvhigh,low,5more,2,med,low,unacc\\nvhigh,low,5more,2,med,med,unacc\\nvhigh,low,5more,2,med,high,unacc\\nvhigh,low,5more,2,big,low,unacc\\nvhigh,low,5more,2,big,med,unacc\\nvhigh,low,5more,2,big,high,unacc\\nvhigh,low,5more,4,small,low,unacc\\nvhigh,low,5more,4,small,med,unacc\\nvhigh,low,5more,4,small,high,acc\\nvhigh,low,5more,4,med,low,unacc\\nvhigh,low,5more,4,med,med,acc\\nvhigh,low,5more,4,med,high,acc\\nvhigh,low,5more,4,big,low,unacc\\nvhigh,low,5more,4,big,med,acc\\nvhigh,low,5more,4,big,high,acc\\nvhigh,low,5more,more,small,low,unacc\\nvhigh,low,5more,more,small,med,unacc\\nvhigh,low,5more,more,small,high,acc\\nvhigh,low,5more,more,med,low,unacc\\nvhigh,low,5more,more,med,med,acc\\nvhigh,low,5more,more,med,high,acc\\nvhigh,low,5more,more,big,low,unacc\\nvhigh,low,5more,more,big,med,acc\\nvhigh,low,5more,more,big,high,acc\\nhigh,vhigh,2,2,small,low,unacc\\nhigh,vhigh,2,2,small,med,unacc\\nhigh,vhigh,2,2,small,high,unacc\\nhigh,vhigh,2,2,med,low,unacc\\nhigh,vhigh,2,2,med,med,unacc\\nhigh,vhigh,2,2,med,high,unacc\\nhigh,vhigh,2,2,big,low,unacc\\nhigh,vhigh,2,2,big,med,unacc\\nhigh,vhigh,2,2,big,high,unacc\\nhigh,vhigh,2,4,small,low,unacc\\nhigh,vhigh,2,4,small,med,unacc\\nhigh,vhigh,2,4,small,high,unacc\\nhigh,vhigh,2,4,med,low,unacc\\nhigh,vhigh,2,4,med,med,unacc\\nhigh,vhigh,2,4,med,high,unacc\\nhigh,vhigh,2,4,big,low,unacc\\nhigh,vhigh,2,4,big,med,unacc\\nhigh,vhigh,2,4,big,high,unacc\\nhigh,vhigh,2,more,small,low,unacc\\nhigh,vhigh,2,more,small,med,unacc\\nhigh,vhigh,2,more,small,high,unacc\\nhigh,vhigh,2,more,med,low,unacc\\nhigh,vhigh,2,more,med,med,unacc\\nhigh,vhigh,2,more,med,high,unacc\\nhigh,vhigh,2,more,big,low,unacc\\nhigh,vhigh,2,more,big,med,unacc\\nhigh,vhigh,2,more,big,high,unacc\\nhigh,vhigh,3,2,small,low,unacc\\nhigh,vhigh,3,2,small,med,unacc\\nhigh,vhigh,3,2,small,high,unacc\\nhigh,vhigh,3,2,med,low,unacc\\nhigh,vhigh,3,2,med,med,unacc\\nhigh,vhigh,3,2,med,high,unacc\\nhigh,vhigh,3,2,big,low,unacc\\nhigh,vhigh,3,2,big,med,unacc\\nhigh,vhigh,3,2,big,high,unacc\\nhigh,vhigh,3,4,small,low,unacc\\nhigh,vhigh,3,4,small,med,unacc\\nhigh,vhigh,3,4,small,high,unacc\\nhigh,vhigh,3,4,med,low,unacc\\nhigh,vhigh,3,4,med,med,unacc\\nhigh,vhigh,3,4,med,high,unacc\\nhigh,vhigh,3,4,big,low,unacc\\nhigh,vhigh,3,4,big,med,unacc\\nhigh,vhigh,3,4,big,high,unacc\\nhigh,vhigh,3,more,small,low,unacc\\nhigh,vhigh,3,more,small,med,unacc\\nhigh,vhigh,3,more,small,high,unacc\\nhigh,vhigh,3,more,med,low,unacc\\nhigh,vhigh,3,more,med,med,unacc\\nhigh,vhigh,3,more,med,high,unacc\\nhigh,vhigh,3,more,big,low,unacc\\nhigh,vhigh,3,more,big,med,unacc\\nhigh,vhigh,3,more,big,high,unacc\\nhigh,vhigh,4,2,small,low,unacc\\nhigh,vhigh,4,2,small,med,unacc\\nhigh,vhigh,4,2,small,high,unacc\\nhigh,vhigh,4,2,med,low,unacc\\nhigh,vhigh,4,2,med,med,unacc\\nhigh,vhigh,4,2,med,high,unacc\\nhigh,vhigh,4,2,big,low,unacc\\nhigh,vhigh,4,2,big,med,unacc\\nhigh,vhigh,4,2,big,high,unacc\\nhigh,vhigh,4,4,small,low,unacc\\nhigh,vhigh,4,4,small,med,unacc\\nhigh,vhigh,4,4,small,high,unacc\\nhigh,vhigh,4,4,med,low,unacc\\nhigh,vhigh,4,4,med,med,unacc\\nhigh,vhigh,4,4,med,high,unacc\\nhigh,vhigh,4,4,big,low,unacc\\nhigh,vhigh,4,4,big,med,unacc\\nhigh,vhigh,4,4,big,high,unacc\\nhigh,vhigh,4,more,small,low,unacc\\nhigh,vhigh,4,more,small,med,unacc\\nhigh,vhigh,4,more,small,high,unacc\\nhigh,vhigh,4,more,med,low,unacc\\nhigh,vhigh,4,more,med,med,unacc\\nhigh,vhigh,4,more,med,high,unacc\\nhigh,vhigh,4,more,big,low,unacc\\nhigh,vhigh,4,more,big,med,unacc\\nhigh,vhigh,4,more,big,high,unacc\\nhigh,vhigh,5more,2,small,low,unacc\\nhigh,vhigh,5more,2,small,med,unacc\\nhigh,vhigh,5more,2,small,high,unacc\\nhigh,vhigh,5more,2,med,low,unacc\\nhigh,vhigh,5more,2,med,med,unacc\\nhigh,vhigh,5more,2,med,high,unacc\\nhigh,vhigh,5more,2,big,low,unacc\\nhigh,vhigh,5more,2,big,med,unacc\\nhigh,vhigh,5more,2,big,high,unacc\\nhigh,vhigh,5more,4,small,low,unacc\\nhigh,vhigh,5more,4,small,med,unacc\\nhigh,vhigh,5more,4,small,high,unacc\\nhigh,vhigh,5more,4,med,low,unacc\\nhigh,vhigh,5more,4,med,med,unacc\\nhigh,vhigh,5more,4,med,high,unacc\\nhigh,vhigh,5more,4,big,low,unacc\\nhigh,vhigh,5more,4,big,med,unacc\\nhigh,vhigh,5more,4,big,high,unacc\\nhigh,vhigh,5more,more,small,low,unacc\\nhigh,vhigh,5more,more,small,med,unacc\\nhigh,vhigh,5more,more,small,high,unacc\\nhigh,vhigh,5more,more,med,low,unacc\\nhigh,vhigh,5more,more,med,med,unacc\\nhigh,vhigh,5more,more,med,high,unacc\\nhigh,vhigh,5more,more,big,low,unacc\\nhigh,vhigh,5more,more,big,med,unacc\\nhigh,vhigh,5more,more,big,high,unacc\\nhigh,high,2,2,small,low,unacc\\nhigh,high,2,2,small,med,unacc\\nhigh,high,2,2,small,high,unacc\\nhigh,high,2,2,med,low,unacc\\nhigh,high,2,2,med,med,unacc\\nhigh,high,2,2,med,high,unacc\\nhigh,high,2,2,big,low,unacc\\nhigh,high,2,2,big,med,unacc\\nhigh,high,2,2,big,high,unacc\\nhigh,high,2,4,small,low,unacc\\nhigh,high,2,4,small,med,unacc\\nhigh,high,2,4,small,high,acc\\nhigh,high,2,4,med,low,unacc\\nhigh,high,2,4,med,med,unacc\\nhigh,high,2,4,med,high,acc\\nhigh,high,2,4,big,low,unacc\\nhigh,high,2,4,big,med,acc\\nhigh,high,2,4,big,high,acc\\nhigh,high,2,more,small,low,unacc\\nhigh,high,2,more,small,med,unacc\\nhigh,high,2,more,small,high,unacc\\nhigh,high,2,more,med,low,unacc\\nhigh,high,2,more,med,med,unacc\\nhigh,high,2,more,med,high,acc\\nhigh,high,2,more,big,low,unacc\\nhigh,high,2,more,big,med,acc\\nhigh,high,2,more,big,high,acc\\nhigh,high,3,2,small,low,unacc\\nhigh,high,3,2,small,med,unacc\\nhigh,high,3,2,small,high,unacc\\nhigh,high,3,2,med,low,unacc\\nhigh,high,3,2,med,med,unacc\\nhigh,high,3,2,med,high,unacc\\nhigh,high,3,2,big,low,unacc\\nhigh,high,3,2,big,med,unacc\\nhigh,high,3,2,big,high,unacc\\nhigh,high,3,4,small,low,unacc\\nhigh,high,3,4,small,med,unacc\\nhigh,high,3,4,small,high,acc\\nhigh,high,3,4,med,low,unacc\\nhigh,high,3,4,med,med,unacc\\nhigh,high,3,4,med,high,acc\\nhigh,high,3,4,big,low,unacc\\nhigh,high,3,4,big,med,acc\\nhigh,high,3,4,big,high,acc\\nhigh,high,3,more,small,low,unacc\\nhigh,high,3,more,small,med,unacc\\nhigh,high,3,more,small,high,acc\\nhigh,high,3,more,med,low,unacc\\nhigh,high,3,more,med,med,acc\\nhigh,high,3,more,med,high,acc\\nhigh,high,3,more,big,low,unacc\\nhigh,high,3,more,big,med,acc\\nhigh,high,3,more,big,high,acc\\nhigh,high,4,2,small,low,unacc\\nhigh,high,4,2,small,med,unacc\\nhigh,high,4,2,small,high,unacc\\nhigh,high,4,2,med,low,unacc\\nhigh,high,4,2,med,med,unacc\\nhigh,high,4,2,med,high,unacc\\nhigh,high,4,2,big,low,unacc\\nhigh,high,4,2,big,med,unacc\\nhigh,high,4,2,big,high,unacc\\nhigh,high,4,4,small,low,unacc\\nhigh,high,4,4,small,med,unacc\\nhigh,high,4,4,small,high,acc\\nhigh,high,4,4,med,low,unacc\\nhigh,high,4,4,med,med,acc\\nhigh,high,4,4,med,high,acc\\nhigh,high,4,4,big,low,unacc\\nhigh,high,4,4,big,med,acc\\nhigh,high,4,4,big,high,acc\\nhigh,high,4,more,small,low,unacc\\nhigh,high,4,more,small,med,unacc\\nhigh,high,4,more,small,high,acc\\nhigh,high,4,more,med,low,unacc\\nhigh,high,4,more,med,med,acc\\nhigh,high,4,more,med,high,acc\\nhigh,high,4,more,big,low,unacc\\nhigh,high,4,more,big,med,acc\\nhigh,high,4,more,big,high,acc\\nhigh,high,5more,2,small,low,unacc\\nhigh,high,5more,2,small,med,unacc\\nhigh,high,5more,2,small,high,unacc\\nhigh,high,5more,2,med,low,unacc\\nhigh,high,5more,2,med,med,unacc\\nhigh,high,5more,2,med,high,unacc\\nhigh,high,5more,2,big,low,unacc\\nhigh,high,5more,2,big,med,unacc\\nhigh,high,5more,2,big,high,unacc\\nhigh,high,5more,4,small,low,unacc\\nhigh,high,5more,4,small,med,unacc\\nhigh,high,5more,4,small,high,acc\\nhigh,high,5more,4,med,low,unacc\\nhigh,high,5more,4,med,med,acc\\nhigh,high,5more,4,med,high,acc\\nhigh,high,5more,4,big,low,unacc\\nhigh,high,5more,4,big,med,acc\\nhigh,high,5more,4,big,high,acc\\nhigh,high,5more,more,small,low,unacc\\nhigh,high,5more,more,small,med,unacc\\nhigh,high,5more,more,small,high,acc\\nhigh,high,5more,more,med,low,unacc\\nhigh,high,5more,more,med,med,acc\\nhigh,high,5more,more,med,high,acc\\nhigh,high,5more,more,big,low,unacc\\nhigh,high,5more,more,big,med,acc\\nhigh,high,5more,more,big,high,acc\\nhigh,med,2,2,small,low,unacc\\nhigh,med,2,2,small,med,unacc\\nhigh,med,2,2,small,high,unacc\\nhigh,med,2,2,med,low,unacc\\nhigh,med,2,2,med,med,unacc\\nhigh,med,2,2,med,high,unacc\\nhigh,med,2,2,big,low,unacc\\nhigh,med,2,2,big,med,unacc\\nhigh,med,2,2,big,high,unacc\\nhigh,med,2,4,small,low,unacc\\nhigh,med,2,4,small,med,unacc\\nhigh,med,2,4,small,high,acc\\nhigh,med,2,4,med,low,unacc\\nhigh,med,2,4,med,med,unacc\\nhigh,med,2,4,med,high,acc\\nhigh,med,2,4,big,low,unacc\\nhigh,med,2,4,big,med,acc\\nhigh,med,2,4,big,high,acc\\nhigh,med,2,more,small,low,unacc\\nhigh,med,2,more,small,med,unacc\\nhigh,med,2,more,small,high,unacc\\nhigh,med,2,more,med,low,unacc\\nhigh,med,2,more,med,med,unacc\\nhigh,med,2,more,med,high,acc\\nhigh,med,2,more,big,low,unacc\\nhigh,med,2,more,big,med,acc\\nhigh,med,2,more,big,high,acc\\nhigh,med,3,2,small,low,unacc\\nhigh,med,3,2,small,med,unacc\\nhigh,med,3,2,small,high,unacc\\nhigh,med,3,2,med,low,unacc\\nhigh,med,3,2,med,med,unacc\\nhigh,med,3,2,med,high,unacc\\nhigh,med,3,2,big,low,unacc\\nhigh,med,3,2,big,med,unacc\\nhigh,med,3,2,big,high,unacc\\nhigh,med,3,4,small,low,unacc\\nhigh,med,3,4,small,med,unacc\\nhigh,med,3,4,small,high,acc\\nhigh,med,3,4,med,low,unacc\\nhigh,med,3,4,med,med,unacc\\nhigh,med,3,4,med,high,acc\\nhigh,med,3,4,big,low,unacc\\nhigh,med,3,4,big,med,acc\\nhigh,med,3,4,big,high,acc\\nhigh,med,3,more,small,low,unacc\\nhigh,med,3,more,small,med,unacc\\nhigh,med,3,more,small,high,acc\\nhigh,med,3,more,med,low,unacc\\nhigh,med,3,more,med,med,acc\\nhigh,med,3,more,med,high,acc\\nhigh,med,3,more,big,low,unacc\\nhigh,med,3,more,big,med,acc\\nhigh,med,3,more,big,high,acc\\nhigh,med,4,2,small,low,unacc\\nhigh,med,4,2,small,med,unacc\\nhigh,med,4,2,small,high,unacc\\nhigh,med,4,2,med,low,unacc\\nhigh,med,4,2,med,med,unacc\\nhigh,med,4,2,med,high,unacc\\nhigh,med,4,2,big,low,unacc\\nhigh,med,4,2,big,med,unacc\\nhigh,med,4,2,big,high,unacc\\nhigh,med,4,4,small,low,unacc\\nhigh,med,4,4,small,med,unacc\\nhigh,med,4,4,small,high,acc\\nhigh,med,4,4,med,low,unacc\\nhigh,med,4,4,med,med,acc\\nhigh,med,4,4,med,high,acc\\nhigh,med,4,4,big,low,unacc\\nhigh,med,4,4,big,med,acc\\nhigh,med,4,4,big,high,acc\\nhigh,med,4,more,small,low,unacc\\nhigh,med,4,more,small,med,unacc\\nhigh,med,4,more,small,high,acc\\nhigh,med,4,more,med,low,unacc\\nhigh,med,4,more,med,med,acc\\nhigh,med,4,more,med,high,acc\\nhigh,med,4,more,big,low,unacc\\nhigh,med,4,more,big,med,acc\\nhigh,med,4,more,big,high,acc\\nhigh,med,5more,2,small,low,unacc\\nhigh,med,5more,2,small,med,unacc\\nhigh,med,5more,2,small,high,unacc\\nhigh,med,5more,2,med,low,unacc\\nhigh,med,5more,2,med,med,unacc\\nhigh,med,5more,2,med,high,unacc\\nhigh,med,5more,2,big,low,unacc\\nhigh,med,5more,2,big,med,unacc\\nhigh,med,5more,2,big,high,unacc\\nhigh,med,5more,4,small,low,unacc\\nhigh,med,5more,4,small,med,unacc\\nhigh,med,5more,4,small,high,acc\\nhigh,med,5more,4,med,low,unacc\\nhigh,med,5more,4,med,med,acc\\nhigh,med,5more,4,med,high,acc\\nhigh,med,5more,4,big,low,unacc\\nhigh,med,5more,4,big,med,acc\\nhigh,med,5more,4,big,high,acc\\nhigh,med,5more,more,small,low,unacc\\nhigh,med,5more,more,small,med,unacc\\nhigh,med,5more,more,small,high,acc\\nhigh,med,5more,more,med,low,unacc\\nhigh,med,5more,more,med,med,acc\\nhigh,med,5more,more,med,high,acc\\nhigh,med,5more,more,big,low,unacc\\nhigh,med,5more,more,big,med,acc\\nhigh,med,5more,more,big,high,acc\\nhigh,low,2,2,small,low,unacc\\nhigh,low,2,2,small,med,unacc\\nhigh,low,2,2,small,high,unacc\\nhigh,low,2,2,med,low,unacc\\nhigh,low,2,2,med,med,unacc\\nhigh,low,2,2,med,high,unacc\\nhigh,low,2,2,big,low,unacc\\nhigh,low,2,2,big,med,unacc\\nhigh,low,2,2,big,high,unacc\\nhigh,low,2,4,small,low,unacc\\nhigh,low,2,4,small,med,unacc\\nhigh,low,2,4,small,high,acc\\nhigh,low,2,4,med,low,unacc\\nhigh,low,2,4,med,med,unacc\\nhigh,low,2,4,med,high,acc\\nhigh,low,2,4,big,low,unacc\\nhigh,low,2,4,big,med,acc\\nhigh,low,2,4,big,high,acc\\nhigh,low,2,more,small,low,unacc\\nhigh,low,2,more,small,med,unacc\\nhigh,low,2,more,small,high,unacc\\nhigh,low,2,more,med,low,unacc\\nhigh,low,2,more,med,med,unacc\\nhigh,low,2,more,med,high,acc\\nhigh,low,2,more,big,low,unacc\\nhigh,low,2,more,big,med,acc\\nhigh,low,2,more,big,high,acc\\nhigh,low,3,2,small,low,unacc\\nhigh,low,3,2,small,med,unacc\\nhigh,low,3,2,small,high,unacc\\nhigh,low,3,2,med,low,unacc\\nhigh,low,3,2,med,med,unacc\\nhigh,low,3,2,med,high,unacc\\nhigh,low,3,2,big,low,unacc\\nhigh,low,3,2,big,med,unacc\\nhigh,low,3,2,big,high,unacc\\nhigh,low,3,4,small,low,unacc\\nhigh,low,3,4,small,med,unacc\\nhigh,low,3,4,small,high,acc\\nhigh,low,3,4,med,low,unacc\\nhigh,low,3,4,med,med,unacc\\nhigh,low,3,4,med,high,acc\\nhigh,low,3,4,big,low,unacc\\nhigh,low,3,4,big,med,acc\\nhigh,low,3,4,big,high,acc\\nhigh,low,3,more,small,low,unacc\\nhigh,low,3,more,small,med,unacc\\nhigh,low,3,more,small,high,acc\\nhigh,low,3,more,med,low,unacc\\nhigh,low,3,more,med,med,acc\\nhigh,low,3,more,med,high,acc\\nhigh,low,3,more,big,low,unacc\\nhigh,low,3,more,big,med,acc\\nhigh,low,3,more,big,high,acc\\nhigh,low,4,2,small,low,unacc\\nhigh,low,4,2,small,med,unacc\\nhigh,low,4,2,small,high,unacc\\nhigh,low,4,2,med,low,unacc\\nhigh,low,4,2,med,med,unacc\\nhigh,low,4,2,med,high,unacc\\nhigh,low,4,2,big,low,unacc\\nhigh,low,4,2,big,med,unacc\\nhigh,low,4,2,big,high,unacc\\nhigh,low,4,4,small,low,unacc\\nhigh,low,4,4,small,med,unacc\\nhigh,low,4,4,small,high,acc\\nhigh,low,4,4,med,low,unacc\\nhigh,low,4,4,med,med,acc\\nhigh,low,4,4,med,high,acc\\nhigh,low,4,4,big,low,unacc\\nhigh,low,4,4,big,med,acc\\nhigh,low,4,4,big,high,acc\\nhigh,low,4,more,small,low,unacc\\nhigh,low,4,more,small,med,unacc\\nhigh,low,4,more,small,high,acc\\nhigh,low,4,more,med,low,unacc\\nhigh,low,4,more,med,med,acc\\nhigh,low,4,more,med,high,acc\\nhigh,low,4,more,big,low,unacc\\nhigh,low,4,more,big,med,acc\\nhigh,low,4,more,big,high,acc\\nhigh,low,5more,2,small,low,unacc\\nhigh,low,5more,2,small,med,unacc\\nhigh,low,5more,2,small,high,unacc\\nhigh,low,5more,2,med,low,unacc\\nhigh,low,5more,2,med,med,unacc\\nhigh,low,5more,2,med,high,unacc\\nhigh,low,5more,2,big,low,unacc\\nhigh,low,5more,2,big,med,unacc\\nhigh,low,5more,2,big,high,unacc\\nhigh,low,5more,4,small,low,unacc\\nhigh,low,5more,4,small,med,unacc\\nhigh,low,5more,4,small,high,acc\\nhigh,low,5more,4,med,low,unacc\\nhigh,low,5more,4,med,med,acc\\nhigh,low,5more,4,med,high,acc\\nhigh,low,5more,4,big,low,unacc\\nhigh,low,5more,4,big,med,acc\\nhigh,low,5more,4,big,high,acc\\nhigh,low,5more,more,small,low,unacc\\nhigh,low,5more,more,small,med,unacc\\nhigh,low,5more,more,small,high,acc\\nhigh,low,5more,more,med,low,unacc\\nhigh,low,5more,more,med,med,acc\\nhigh,low,5more,more,med,high,acc\\nhigh,low,5more,more,big,low,unacc\\nhigh,low,5more,more,big,med,acc\\nhigh,low,5more,more,big,high,acc\\nmed,vhigh,2,2,small,low,unacc\\nmed,vhigh,2,2,small,med,unacc\\nmed,vhigh,2,2,small,high,unacc\\nmed,vhigh,2,2,med,low,unacc\\nmed,vhigh,2,2,med,med,unacc\\nmed,vhigh,2,2,med,high,unacc\\nmed,vhigh,2,2,big,low,unacc\\nmed,vhigh,2,2,big,med,unacc\\nmed,vhigh,2,2,big,high,unacc\\nmed,vhigh,2,4,small,low,unacc\\nmed,vhigh,2,4,small,med,unacc\\nmed,vhigh,2,4,small,high,acc\\nmed,vhigh,2,4,med,low,unacc\\nmed,vhigh,2,4,med,med,unacc\\nmed,vhigh,2,4,med,high,acc\\nmed,vhigh,2,4,big,low,unacc\\nmed,vhigh,2,4,big,med,acc\\nmed,vhigh,2,4,big,high,acc\\nmed,vhigh,2,more,small,low,unacc\\nmed,vhigh,2,more,small,med,unacc\\nmed,vhigh,2,more,small,high,unacc\\nmed,vhigh,2,more,med,low,unacc\\nmed,vhigh,2,more,med,med,unacc\\nmed,vhigh,2,more,med,high,acc\\nmed,vhigh,2,more,big,low,unacc\\nmed,vhigh,2,more,big,med,acc\\nmed,vhigh,2,more,big,high,acc\\nmed,vhigh,3,2,small,low,unacc\\nmed,vhigh,3,2,small,med,unacc\\nmed,vhigh,3,2,small,high,unacc\\nmed,vhigh,3,2,med,low,unacc\\nmed,vhigh,3,2,med,med,unacc\\nmed,vhigh,3,2,med,high,unacc\\nmed,vhigh,3,2,big,low,unacc\\nmed,vhigh,3,2,big,med,unacc\\nmed,vhigh,3,2,big,high,unacc\\nmed,vhigh,3,4,small,low,unacc\\nmed,vhigh,3,4,small,med,unacc\\nmed,vhigh,3,4,small,high,acc\\nmed,vhigh,3,4,med,low,unacc\\nmed,vhigh,3,4,med,med,unacc\\nmed,vhigh,3,4,med,high,acc\\nmed,vhigh,3,4,big,low,unacc\\nmed,vhigh,3,4,big,med,acc\\nmed,vhigh,3,4,big,high,acc\\nmed,vhigh,3,more,small,low,unacc\\nmed,vhigh,3,more,small,med,unacc\\nmed,vhigh,3,more,small,high,acc\\nmed,vhigh,3,more,med,low,unacc\\nmed,vhigh,3,more,med,med,acc\\nmed,vhigh,3,more,med,high,acc\\nmed,vhigh,3,more,big,low,unacc\\nmed,vhigh,3,more,big,med,acc\\nmed,vhigh,3,more,big,high,acc\\nmed,vhigh,4,2,small,low,unacc\\nmed,vhigh,4,2,small,med,unacc\\nmed,vhigh,4,2,small,high,unacc\\nmed,vhigh,4,2,med,low,unacc\\nmed,vhigh,4,2,med,med,unacc\\nmed,vhigh,4,2,med,high,unacc\\nmed,vhigh,4,2,big,low,unacc\\nmed,vhigh,4,2,big,med,unacc\\nmed,vhigh,4,2,big,high,unacc\\nmed,vhigh,4,4,small,low,unacc\\nmed,vhigh,4,4,small,med,unacc\\nmed,vhigh,4,4,small,high,acc\\nmed,vhigh,4,4,med,low,unacc\\nmed,vhigh,4,4,med,med,acc\\nmed,vhigh,4,4,med,high,acc\\nmed,vhigh,4,4,big,low,unacc\\nmed,vhigh,4,4,big,med,acc\\nmed,vhigh,4,4,big,high,acc\\nmed,vhigh,4,more,small,low,unacc\\nmed,vhigh,4,more,small,med,unacc\\nmed,vhigh,4,more,small,high,acc\\nmed,vhigh,4,more,med,low,unacc\\nmed,vhigh,4,more,med,med,acc\\nmed,vhigh,4,more,med,high,acc\\nmed,vhigh,4,more,big,low,unacc\\nmed,vhigh,4,more,big,med,acc\\nmed,vhigh,4,more,big,high,acc\\nmed,vhigh,5more,2,small,low,unacc\\nmed,vhigh,5more,2,small,med,unacc\\nmed,vhigh,5more,2,small,high,unacc\\nmed,vhigh,5more,2,med,low,unacc\\nmed,vhigh,5more,2,med,med,unacc\\nmed,vhigh,5more,2,med,high,unacc\\nmed,vhigh,5more,2,big,low,unacc\\nmed,vhigh,5more,2,big,med,unacc\\nmed,vhigh,5more,2,big,high,unacc\\nmed,vhigh,5more,4,small,low,unacc\\nmed,vhigh,5more,4,small,med,unacc\\nmed,vhigh,5more,4,small,high,acc\\nmed,vhigh,5more,4,med,low,unacc\\nmed,vhigh,5more,4,med,med,acc\\nmed,vhigh,5more,4,med,high,acc\\nmed,vhigh,5more,4,big,low,unacc\\nmed,vhigh,5more,4,big,med,acc\\nmed,vhigh,5more,4,big,high,acc\\nmed,vhigh,5more,more,small,low,unacc\\nmed,vhigh,5more,more,small,med,unacc\\nmed,vhigh,5more,more,small,high,acc\\nmed,vhigh,5more,more,med,low,unacc\\nmed,vhigh,5more,more,med,med,acc\\nmed,vhigh,5more,more,med,high,acc\\nmed,vhigh,5more,more,big,low,unacc\\nmed,vhigh,5more,more,big,med,acc\\nmed,vhigh,5more,more,big,high,acc\\nmed,high,2,2,small,low,unacc\\nmed,high,2,2,small,med,unacc\\nmed,high,2,2,small,high,unacc\\nmed,high,2,2,med,low,unacc\\nmed,high,2,2,med,med,unacc\\nmed,high,2,2,med,high,unacc\\nmed,high,2,2,big,low,unacc\\nmed,high,2,2,big,med,unacc\\nmed,high,2,2,big,high,unacc\\nmed,high,2,4,small,low,unacc\\nmed,high,2,4,small,med,unacc\\nmed,high,2,4,small,high,acc\\nmed,high,2,4,med,low,unacc\\nmed,high,2,4,med,med,unacc\\nmed,high,2,4,med,high,acc\\nmed,high,2,4,big,low,unacc\\nmed,high,2,4,big,med,acc\\nmed,high,2,4,big,high,acc\\nmed,high,2,more,small,low,unacc\\nmed,high,2,more,small,med,unacc\\nmed,high,2,more,small,high,unacc\\nmed,high,2,more,med,low,unacc\\nmed,high,2,more,med,med,unacc\\nmed,high,2,more,med,high,acc\\nmed,high,2,more,big,low,unacc\\nmed,high,2,more,big,med,acc\\nmed,high,2,more,big,high,acc\\nmed,high,3,2,small,low,unacc\\nmed,high,3,2,small,med,unacc\\nmed,high,3,2,small,high,unacc\\nmed,high,3,2,med,low,unacc\\nmed,high,3,2,med,med,unacc\\nmed,high,3,2,med,high,unacc\\nmed,high,3,2,big,low,unacc\\nmed,high,3,2,big,med,unacc\\nmed,high,3,2,big,high,unacc\\nmed,high,3,4,small,low,unacc\\nmed,high,3,4,small,med,unacc\\nmed,high,3,4,small,high,acc\\nmed,high,3,4,med,low,unacc\\nmed,high,3,4,med,med,unacc\\nmed,high,3,4,med,high,acc\\nmed,high,3,4,big,low,unacc\\nmed,high,3,4,big,med,acc\\nmed,high,3,4,big,high,acc\\nmed,high,3,more,small,low,unacc\\nmed,high,3,more,small,med,unacc\\nmed,high,3,more,small,high,acc\\nmed,high,3,more,med,low,unacc\\nmed,high,3,more,med,med,acc\\nmed,high,3,more,med,high,acc\\nmed,high,3,more,big,low,unacc\\nmed,high,3,more,big,med,acc\\nmed,high,3,more,big,high,acc\\nmed,high,4,2,small,low,unacc\\nmed,high,4,2,small,med,unacc\\nmed,high,4,2,small,high,unacc\\nmed,high,4,2,med,low,unacc\\nmed,high,4,2,med,med,unacc\\nmed,high,4,2,med,high,unacc\\nmed,high,4,2,big,low,unacc\\nmed,high,4,2,big,med,unacc\\nmed,high,4,2,big,high,unacc\\nmed,high,4,4,small,low,unacc\\nmed,high,4,4,small,med,unacc\\nmed,high,4,4,small,high,acc\\nmed,high,4,4,med,low,unacc\\nmed,high,4,4,med,med,acc\\nmed,high,4,4,med,high,acc\\nmed,high,4,4,big,low,unacc\\nmed,high,4,4,big,med,acc\\nmed,high,4,4,big,high,acc\\nmed,high,4,more,small,low,unacc\\nmed,high,4,more,small,med,unacc\\nmed,high,4,more,small,high,acc\\nmed,high,4,more,med,low,unacc\\nmed,high,4,more,med,med,acc\\nmed,high,4,more,med,high,acc\\nmed,high,4,more,big,low,unacc\\nmed,high,4,more,big,med,acc\\nmed,high,4,more,big,high,acc\\nmed,high,5more,2,small,low,unacc\\nmed,high,5more,2,small,med,unacc\\nmed,high,5more,2,small,high,unacc\\nmed,high,5more,2,med,low,unacc\\nmed,high,5more,2,med,med,unacc\\nmed,high,5more,2,med,high,unacc\\nmed,high,5more,2,big,low,unacc\\nmed,high,5more,2,big,med,unacc\\nmed,high,5more,2,big,high,unacc\\nmed,high,5more,4,small,low,unacc\\nmed,high,5more,4,small,med,unacc\\nmed,high,5more,4,small,high,acc\\nmed,high,5more,4,med,low,unacc\\nmed,high,5more,4,med,med,acc\\nmed,high,5more,4,med,high,acc\\nmed,high,5more,4,big,low,unacc\\nmed,high,5more,4,big,med,acc\\nmed,high,5more,4,big,high,acc\\nmed,high,5more,more,small,low,unacc\\nmed,high,5more,more,small,med,unacc\\nmed,high,5more,more,small,high,acc\\nmed,high,5more,more,med,low,unacc\\nmed,high,5more,more,med,med,acc\\nmed,high,5more,more,med,high,acc\\nmed,high,5more,more,big,low,unacc\\nmed,high,5more,more,big,med,acc\\nmed,high,5more,more,big,high,acc\\nmed,med,2,2,small,low,unacc\\nmed,med,2,2,small,med,unacc\\nmed,med,2,2,small,high,unacc\\nmed,med,2,2,med,low,unacc\\nmed,med,2,2,med,med,unacc\\nmed,med,2,2,med,high,unacc\\nmed,med,2,2,big,low,unacc\\nmed,med,2,2,big,med,unacc\\nmed,med,2,2,big,high,unacc\\nmed,med,2,4,small,low,unacc\\nmed,med,2,4,small,med,acc\\nmed,med,2,4,small,high,acc\\nmed,med,2,4,med,low,unacc\\nmed,med,2,4,med,med,acc\\nmed,med,2,4,med,high,acc\\nmed,med,2,4,big,low,unacc\\nmed,med,2,4,big,med,acc\\nmed,med,2,4,big,high,vgood\\nmed,med,2,more,small,low,unacc\\nmed,med,2,more,small,med,unacc\\nmed,med,2,more,small,high,unacc\\nmed,med,2,more,med,low,unacc\\nmed,med,2,more,med,med,acc\\nmed,med,2,more,med,high,acc\\nmed,med,2,more,big,low,unacc\\nmed,med,2,more,big,med,acc\\nmed,med,2,more,big,high,vgood\\nmed,med,3,2,small,low,unacc\\nmed,med,3,2,small,med,unacc\\nmed,med,3,2,small,high,unacc\\nmed,med,3,2,med,low,unacc\\nmed,med,3,2,med,med,unacc\\nmed,med,3,2,med,high,unacc\\nmed,med,3,2,big,low,unacc\\nmed,med,3,2,big,med,unacc\\nmed,med,3,2,big,high,unacc\\nmed,med,3,4,small,low,unacc\\nmed,med,3,4,small,med,acc\\nmed,med,3,4,small,high,acc\\nmed,med,3,4,med,low,unacc\\nmed,med,3,4,med,med,acc\\nmed,med,3,4,med,high,acc\\nmed,med,3,4,big,low,unacc\\nmed,med,3,4,big,med,acc\\nmed,med,3,4,big,high,vgood\\nmed,med,3,more,small,low,unacc\\nmed,med,3,more,small,med,acc\\nmed,med,3,more,small,high,acc\\nmed,med,3,more,med,low,unacc\\nmed,med,3,more,med,med,acc\\nmed,med,3,more,med,high,vgood\\nmed,med,3,more,big,low,unacc\\nmed,med,3,more,big,med,acc\\nmed,med,3,more,big,high,vgood\\nmed,med,4,2,small,low,unacc\\nmed,med,4,2,small,med,unacc\\nmed,med,4,2,small,high,unacc\\nmed,med,4,2,med,low,unacc\\nmed,med,4,2,med,med,unacc\\nmed,med,4,2,med,high,unacc\\nmed,med,4,2,big,low,unacc\\nmed,med,4,2,big,med,unacc\\nmed,med,4,2,big,high,unacc\\nmed,med,4,4,small,low,unacc\\nmed,med,4,4,small,med,acc\\nmed,med,4,4,small,high,acc\\nmed,med,4,4,med,low,unacc\\nmed,med,4,4,med,med,acc\\nmed,med,4,4,med,high,vgood\\nmed,med,4,4,big,low,unacc\\nmed,med,4,4,big,med,acc\\nmed,med,4,4,big,high,vgood\\nmed,med,4,more,small,low,unacc\\nmed,med,4,more,small,med,acc\\nmed,med,4,more,small,high,acc\\nmed,med,4,more,med,low,unacc\\nmed,med,4,more,med,med,acc\\nmed,med,4,more,med,high,vgood\\nmed,med,4,more,big,low,unacc\\nmed,med,4,more,big,med,acc\\nmed,med,4,more,big,high,vgood\\nmed,med,5more,2,small,low,unacc\\nmed,med,5more,2,small,med,unacc\\nmed,med,5more,2,small,high,unacc\\nmed,med,5more,2,med,low,unacc\\nmed,med,5more,2,med,med,unacc\\nmed,med,5more,2,med,high,unacc\\nmed,med,5more,2,big,low,unacc\\nmed,med,5more,2,big,med,unacc\\nmed,med,5more,2,big,high,unacc\\nmed,med,5more,4,small,low,unacc\\nmed,med,5more,4,small,med,acc\\nmed,med,5more,4,small,high,acc\\nmed,med,5more,4,med,low,unacc\\nmed,med,5more,4,med,med,acc\\nmed,med,5more,4,med,high,vgood\\nmed,med,5more,4,big,low,unacc\\nmed,med,5more,4,big,med,acc\\nmed,med,5more,4,big,high,vgood\\nmed,med,5more,more,small,low,unacc\\nmed,med,5more,more,small,med,acc\\nmed,med,5more,more,small,high,acc\\nmed,med,5more,more,med,low,unacc\\nmed,med,5more,more,med,med,acc\\nmed,med,5more,more,med,high,vgood\\nmed,med,5more,more,big,low,unacc\\nmed,med,5more,more,big,med,acc\\nmed,med,5more,more,big,high,vgood\\nmed,low,2,2,small,low,unacc\\nmed,low,2,2,small,med,unacc\\nmed,low,2,2,small,high,unacc\\nmed,low,2,2,med,low,unacc\\nmed,low,2,2,med,med,unacc\\nmed,low,2,2,med,high,unacc\\nmed,low,2,2,big,low,unacc\\nmed,low,2,2,big,med,unacc\\nmed,low,2,2,big,high,unacc\\nmed,low,2,4,small,low,unacc\\nmed,low,2,4,small,med,acc\\nmed,low,2,4,small,high,good\\nmed,low,2,4,med,low,unacc\\nmed,low,2,4,med,med,acc\\nmed,low,2,4,med,high,good\\nmed,low,2,4,big,low,unacc\\nmed,low,2,4,big,med,good\\nmed,low,2,4,big,high,vgood\\nmed,low,2,more,small,low,unacc\\nmed,low,2,more,small,med,unacc\\nmed,low,2,more,small,high,unacc\\nmed,low,2,more,med,low,unacc\\nmed,low,2,more,med,med,acc\\nmed,low,2,more,med,high,good\\nmed,low,2,more,big,low,unacc\\nmed,low,2,more,big,med,good\\nmed,low,2,more,big,high,vgood\\nmed,low,3,2,small,low,unacc\\nmed,low,3,2,small,med,unacc\\nmed,low,3,2,small,high,unacc\\nmed,low,3,2,med,low,unacc\\nmed,low,3,2,med,med,unacc\\nmed,low,3,2,med,high,unacc\\nmed,low,3,2,big,low,unacc\\nmed,low,3,2,big,med,unacc\\nmed,low,3,2,big,high,unacc\\nmed,low,3,4,small,low,unacc\\nmed,low,3,4,small,med,acc\\nmed,low,3,4,small,high,good\\nmed,low,3,4,med,low,unacc\\nmed,low,3,4,med,med,acc\\nmed,low,3,4,med,high,good\\nmed,low,3,4,big,low,unacc\\nmed,low,3,4,big,med,good\\nmed,low,3,4,big,high,vgood\\nmed,low,3,more,small,low,unacc\\nmed,low,3,more,small,med,acc\\nmed,low,3,more,small,high,good\\nmed,low,3,more,med,low,unacc\\nmed,low,3,more,med,med,good\\nmed,low,3,more,med,high,vgood\\nmed,low,3,more,big,low,unacc\\nmed,low,3,more,big,med,good\\nmed,low,3,more,big,high,vgood\\nmed,low,4,2,small,low,unacc\\nmed,low,4,2,small,med,unacc\\nmed,low,4,2,small,high,unacc\\nmed,low,4,2,med,low,unacc\\nmed,low,4,2,med,med,unacc\\nmed,low,4,2,med,high,unacc\\nmed,low,4,2,big,low,unacc\\nmed,low,4,2,big,med,unacc\\nmed,low,4,2,big,high,unacc\\nmed,low,4,4,small,low,unacc\\nmed,low,4,4,small,med,acc\\nmed,low,4,4,small,high,good\\nmed,low,4,4,med,low,unacc\\nmed,low,4,4,med,med,good\\nmed,low,4,4,med,high,vgood\\nmed,low,4,4,big,low,unacc\\nmed,low,4,4,big,med,good\\nmed,low,4,4,big,high,vgood\\nmed,low,4,more,small,low,unacc\\nmed,low,4,more,small,med,acc\\nmed,low,4,more,small,high,good\\nmed,low,4,more,med,low,unacc\\nmed,low,4,more,med,med,good\\nmed,low,4,more,med,high,vgood\\nmed,low,4,more,big,low,unacc\\nmed,low,4,more,big,med,good\\nmed,low,4,more,big,high,vgood\\nmed,low,5more,2,small,low,unacc\\nmed,low,5more,2,small,med,unacc\\nmed,low,5more,2,small,high,unacc\\nmed,low,5more,2,med,low,unacc\\nmed,low,5more,2,med,med,unacc\\nmed,low,5more,2,med,high,unacc\\nmed,low,5more,2,big,low,unacc\\nmed,low,5more,2,big,med,unacc\\nmed,low,5more,2,big,high,unacc\\nmed,low,5more,4,small,low,unacc\\nmed,low,5more,4,small,med,acc\\nmed,low,5more,4,small,high,good\\nmed,low,5more,4,med,low,unacc\\nmed,low,5more,4,med,med,good\\nmed,low,5more,4,med,high,vgood\\nmed,low,5more,4,big,low,unacc\\nmed,low,5more,4,big,med,good\\nmed,low,5more,4,big,high,vgood\\nmed,low,5more,more,small,low,unacc\\nmed,low,5more,more,small,med,acc\\nmed,low,5more,more,small,high,good\\nmed,low,5more,more,med,low,unacc\\nmed,low,5more,more,med,med,good\\nmed,low,5more,more,med,high,vgood\\nmed,low,5more,more,big,low,unacc\\nmed,low,5more,more,big,med,good\\nmed,low,5more,more,big,high,vgood\\nlow,vhigh,2,2,small,low,unacc\\nlow,vhigh,2,2,small,med,unacc\\nlow,vhigh,2,2,small,high,unacc\\nlow,vhigh,2,2,med,low,unacc\\nlow,vhigh,2,2,med,med,unacc\\nlow,vhigh,2,2,med,high,unacc\\nlow,vhigh,2,2,big,low,unacc\\nlow,vhigh,2,2,big,med,unacc\\nlow,vhigh,2,2,big,high,unacc\\nlow,vhigh,2,4,small,low,unacc\\nlow,vhigh,2,4,small,med,unacc\\nlow,vhigh,2,4,small,high,acc\\nlow,vhigh,2,4,med,low,unacc\\nlow,vhigh,2,4,med,med,unacc\\nlow,vhigh,2,4,med,high,acc\\nlow,vhigh,2,4,big,low,unacc\\nlow,vhigh,2,4,big,med,acc\\nlow,vhigh,2,4,big,high,acc\\nlow,vhigh,2,more,small,low,unacc\\nlow,vhigh,2,more,small,med,unacc\\nlow,vhigh,2,more,small,high,unacc\\nlow,vhigh,2,more,med,low,unacc\\nlow,vhigh,2,more,med,med,unacc\\nlow,vhigh,2,more,med,high,acc\\nlow,vhigh,2,more,big,low,unacc\\nlow,vhigh,2,more,big,med,acc\\nlow,vhigh,2,more,big,high,acc\\nlow,vhigh,3,2,small,low,unacc\\nlow,vhigh,3,2,small,med,unacc\\nlow,vhigh,3,2,small,high,unacc\\nlow,vhigh,3,2,med,low,unacc\\nlow,vhigh,3,2,med,med,unacc\\nlow,vhigh,3,2,med,high,unacc\\nlow,vhigh,3,2,big,low,unacc\\nlow,vhigh,3,2,big,med,unacc\\nlow,vhigh,3,2,big,high,unacc\\nlow,vhigh,3,4,small,low,unacc\\nlow,vhigh,3,4,small,med,unacc\\nlow,vhigh,3,4,small,high,acc\\nlow,vhigh,3,4,med,low,unacc\\nlow,vhigh,3,4,med,med,unacc\\nlow,vhigh,3,4,med,high,acc\\nlow,vhigh,3,4,big,low,unacc\\nlow,vhigh,3,4,big,med,acc\\nlow,vhigh,3,4,big,high,acc\\nlow,vhigh,3,more,small,low,unacc\\nlow,vhigh,3,more,small,med,unacc\\nlow,vhigh,3,more,small,high,acc\\nlow,vhigh,3,more,med,low,unacc\\nlow,vhigh,3,more,med,med,acc\\nlow,vhigh,3,more,med,high,acc\\nlow,vhigh,3,more,big,low,unacc\\nlow,vhigh,3,more,big,med,acc\\nlow,vhigh,3,more,big,high,acc\\nlow,vhigh,4,2,small,low,unacc\\nlow,vhigh,4,2,small,med,unacc\\nlow,vhigh,4,2,small,high,unacc\\nlow,vhigh,4,2,med,low,unacc\\nlow,vhigh,4,2,med,med,unacc\\nlow,vhigh,4,2,med,high,unacc\\nlow,vhigh,4,2,big,low,unacc\\nlow,vhigh,4,2,big,med,unacc\\nlow,vhigh,4,2,big,high,unacc\\nlow,vhigh,4,4,small,low,unacc\\nlow,vhigh,4,4,small,med,unacc\\nlow,vhigh,4,4,small,high,acc\\nlow,vhigh,4,4,med,low,unacc\\nlow,vhigh,4,4,med,med,acc\\nlow,vhigh,4,4,med,high,acc\\nlow,vhigh,4,4,big,low,unacc\\nlow,vhigh,4,4,big,med,acc\\nlow,vhigh,4,4,big,high,acc\\nlow,vhigh,4,more,small,low,unacc\\nlow,vhigh,4,more,small,med,unacc\\nlow,vhigh,4,more,small,high,acc\\nlow,vhigh,4,more,med,low,unacc\\nlow,vhigh,4,more,med,med,acc\\nlow,vhigh,4,more,med,high,acc\\nlow,vhigh,4,more,big,low,unacc\\nlow,vhigh,4,more,big,med,acc\\nlow,vhigh,4,more,big,high,acc\\nlow,vhigh,5more,2,small,low,unacc\\nlow,vhigh,5more,2,small,med,unacc\\nlow,vhigh,5more,2,small,high,unacc\\nlow,vhigh,5more,2,med,low,unacc\\nlow,vhigh,5more,2,med,med,unacc\\nlow,vhigh,5more,2,med,high,unacc\\nlow,vhigh,5more,2,big,low,unacc\\nlow,vhigh,5more,2,big,med,unacc\\nlow,vhigh,5more,2,big,high,unacc\\nlow,vhigh,5more,4,small,low,unacc\\nlow,vhigh,5more,4,small,med,unacc\\nlow,vhigh,5more,4,small,high,acc\\nlow,vhigh,5more,4,med,low,unacc\\nlow,vhigh,5more,4,med,med,acc\\nlow,vhigh,5more,4,med,high,acc\\nlow,vhigh,5more,4,big,low,unacc\\nlow,vhigh,5more,4,big,med,acc\\nlow,vhigh,5more,4,big,high,acc\\nlow,vhigh,5more,more,small,low,unacc\\nlow,vhigh,5more,more,small,med,unacc\\nlow,vhigh,5more,more,small,high,acc\\nlow,vhigh,5more,more,med,low,unacc\\nlow,vhigh,5more,more,med,med,acc\\nlow,vhigh,5more,more,med,high,acc\\nlow,vhigh,5more,more,big,low,unacc\\nlow,vhigh,5more,more,big,med,acc\\nlow,vhigh,5more,more,big,high,acc\\nlow,high,2,2,small,low,unacc\\nlow,high,2,2,small,med,unacc\\nlow,high,2,2,small,high,unacc\\nlow,high,2,2,med,low,unacc\\nlow,high,2,2,med,med,unacc\\nlow,high,2,2,med,high,unacc\\nlow,high,2,2,big,low,unacc\\nlow,high,2,2,big,med,unacc\\nlow,high,2,2,big,high,unacc\\nlow,high,2,4,small,low,unacc\\nlow,high,2,4,small,med,acc\\nlow,high,2,4,small,high,acc\\nlow,high,2,4,med,low,unacc\\nlow,high,2,4,med,med,acc\\nlow,high,2,4,med,high,acc\\nlow,high,2,4,big,low,unacc\\nlow,high,2,4,big,med,acc\\nlow,high,2,4,big,high,vgood\\nlow,high,2,more,small,low,unacc\\nlow,high,2,more,small,med,unacc\\nlow,high,2,more,small,high,unacc\\nlow,high,2,more,med,low,unacc\\nlow,high,2,more,med,med,acc\\nlow,high,2,more,med,high,acc\\nlow,high,2,more,big,low,unacc\\nlow,high,2,more,big,med,acc\\nlow,high,2,more,big,high,vgood\\nlow,high,3,2,small,low,unacc\\nlow,high,3,2,small,med,unacc\\nlow,high,3,2,small,high,unacc\\nlow,high,3,2,med,low,unacc\\nlow,high,3,2,med,med,unacc\\nlow,high,3,2,med,high,unacc\\nlow,high,3,2,big,low,unacc\\nlow,high,3,2,big,med,unacc\\nlow,high,3,2,big,high,unacc\\nlow,high,3,4,small,low,unacc\\nlow,high,3,4,small,med,acc\\nlow,high,3,4,small,high,acc\\nlow,high,3,4,med,low,unacc\\nlow,high,3,4,med,med,acc\\nlow,high,3,4,med,high,acc\\nlow,high,3,4,big,low,unacc\\nlow,high,3,4,big,med,acc\\nlow,high,3,4,big,high,vgood\\nlow,high,3,more,small,low,unacc\\nlow,high,3,more,small,med,acc\\nlow,high,3,more,small,high,acc\\nlow,high,3,more,med,low,unacc\\nlow,high,3,more,med,med,acc\\nlow,high,3,more,med,high,vgood\\nlow,high,3,more,big,low,unacc\\nlow,high,3,more,big,med,acc\\nlow,high,3,more,big,high,vgood\\nlow,high,4,2,small,low,unacc\\nlow,high,4,2,small,med,unacc\\nlow,high,4,2,small,high,unacc\\nlow,high,4,2,med,low,unacc\\nlow,high,4,2,med,med,unacc\\nlow,high,4,2,med,high,unacc\\nlow,high,4,2,big,low,unacc\\nlow,high,4,2,big,med,unacc\\nlow,high,4,2,big,high,unacc\\nlow,high,4,4,small,low,unacc\\nlow,high,4,4,small,med,acc\\nlow,high,4,4,small,high,acc\\nlow,high,4,4,med,low,unacc\\nlow,high,4,4,med,med,acc\\nlow,high,4,4,med,high,vgood\\nlow,high,4,4,big,low,unacc\\nlow,high,4,4,big,med,acc\\nlow,high,4,4,big,high,vgood\\nlow,high,4,more,small,low,unacc\\nlow,high,4,more,small,med,acc\\nlow,high,4,more,small,high,acc\\nlow,high,4,more,med,low,unacc\\nlow,high,4,more,med,med,acc\\nlow,high,4,more,med,high,vgood\\nlow,high,4,more,big,low,unacc\\nlow,high,4,more,big,med,acc\\nlow,high,4,more,big,high,vgood\\nlow,high,5more,2,small,low,unacc\\nlow,high,5more,2,small,med,unacc\\nlow,high,5more,2,small,high,unacc\\nlow,high,5more,2,med,low,unacc\\nlow,high,5more,2,med,med,unacc\\nlow,high,5more,2,med,high,unacc\\nlow,high,5more,2,big,low,unacc\\nlow,high,5more,2,big,med,unacc\\nlow,high,5more,2,big,high,unacc\\nlow,high,5more,4,small,low,unacc\\nlow,high,5more,4,small,med,acc\\nlow,high,5more,4,small,high,acc\\nlow,high,5more,4,med,low,unacc\\nlow,high,5more,4,med,med,acc\\nlow,high,5more,4,med,high,vgood\\nlow,high,5more,4,big,low,unacc\\nlow,high,5more,4,big,med,acc\\nlow,high,5more,4,big,high,vgood\\nlow,high,5more,more,small,low,unacc\\nlow,high,5more,more,small,med,acc\\nlow,high,5more,more,small,high,acc\\nlow,high,5more,more,med,low,unacc\\nlow,high,5more,more,med,med,acc\\nlow,high,5more,more,med,high,vgood\\nlow,high,5more,more,big,low,unacc\\nlow,high,5more,more,big,med,acc\\nlow,high,5more,more,big,high,vgood\\nlow,med,2,2,small,low,unacc\\nlow,med,2,2,small,med,unacc\\nlow,med,2,2,small,high,unacc\\nlow,med,2,2,med,low,unacc\\nlow,med,2,2,med,med,unacc\\nlow,med,2,2,med,high,unacc\\nlow,med,2,2,big,low,unacc\\nlow,med,2,2,big,med,unacc\\nlow,med,2,2,big,high,unacc\\nlow,med,2,4,small,low,unacc\\nlow,med,2,4,small,med,acc\\nlow,med,2,4,small,high,good\\nlow,med,2,4,med,low,unacc\\nlow,med,2,4,med,med,acc\\nlow,med,2,4,med,high,good\\nlow,med,2,4,big,low,unacc\\nlow,med,2,4,big,med,good\\nlow,med,2,4,big,high,vgood\\nlow,med,2,more,small,low,unacc\\nlow,med,2,more,small,med,unacc\\nlow,med,2,more,small,high,unacc\\nlow,med,2,more,med,low,unacc\\nlow,med,2,more,med,med,acc\\nlow,med,2,more,med,high,good\\nlow,med,2,more,big,low,unacc\\nlow,med,2,more,big,med,good\\nlow,med,2,more,big,high,vgood\\nlow,med,3,2,small,low,unacc\\nlow,med,3,2,small,med,unacc\\nlow,med,3,2,small,high,unacc\\nlow,med,3,2,med,low,unacc\\nlow,med,3,2,med,med,unacc\\nlow,med,3,2,med,high,unacc\\nlow,med,3,2,big,low,unacc\\nlow,med,3,2,big,med,unacc\\nlow,med,3,2,big,high,unacc\\nlow,med,3,4,small,low,unacc\\nlow,med,3,4,small,med,acc\\nlow,med,3,4,small,high,good\\nlow,med,3,4,med,low,unacc\\nlow,med,3,4,med,med,acc\\nlow,med,3,4,med,high,good\\nlow,med,3,4,big,low,unacc\\nlow,med,3,4,big,med,good\\nlow,med,3,4,big,high,vgood\\nlow,med,3,more,small,low,unacc\\nlow,med,3,more,small,med,acc\\nlow,med,3,more,small,high,good\\nlow,med,3,more,med,low,unacc\\nlow,med,3,more,med,med,good\\nlow,med,3,more,med,high,vgood\\nlow,med,3,more,big,low,unacc\\nlow,med,3,more,big,med,good\\nlow,med,3,more,big,high,vgood\\nlow,med,4,2,small,low,unacc\\nlow,med,4,2,small,med,unacc\\nlow,med,4,2,small,high,unacc\\nlow,med,4,2,med,low,unacc\\nlow,med,4,2,med,med,unacc\\nlow,med,4,2,med,high,unacc\\nlow,med,4,2,big,low,unacc\\nlow,med,4,2,big,med,unacc\\nlow,med,4,2,big,high,unacc\\nlow,med,4,4,small,low,unacc\\nlow,med,4,4,small,med,acc\\nlow,med,4,4,small,high,good\\nlow,med,4,4,med,low,unacc\\nlow,med,4,4,med,med,good\\nlow,med,4,4,med,high,vgood\\nlow,med,4,4,big,low,unacc\\nlow,med,4,4,big,med,good\\nlow,med,4,4,big,high,vgood\\nlow,med,4,more,small,low,unacc\\nlow,med,4,more,small,med,acc\\nlow,med,4,more,small,high,good\\nlow,med,4,more,med,low,unacc\\nlow,med,4,more,med,med,good\\nlow,med,4,more,med,high,vgood\\nlow,med,4,more,big,low,unacc\\nlow,med,4,more,big,med,good\\nlow,med,4,more,big,high,vgood\\nlow,med,5more,2,small,low,unacc\\nlow,med,5more,2,small,med,unacc\\nlow,med,5more,2,small,high,unacc\\nlow,med,5more,2,med,low,unacc\\nlow,med,5more,2,med,med,unacc\\nlow,med,5more,2,med,high,unacc\\nlow,med,5more,2,big,low,unacc\\nlow,med,5more,2,big,med,unacc\\nlow,med,5more,2,big,high,unacc\\nlow,med,5more,4,small,low,unacc\\nlow,med,5more,4,small,med,acc\\nlow,med,5more,4,small,high,good\\nlow,med,5more,4,med,low,unacc\\nlow,med,5more,4,med,med,good\\nlow,med,5more,4,med,high,vgood\\nlow,med,5more,4,big,low,unacc\\nlow,med,5more,4,big,med,good\\nlow,med,5more,4,big,high,vgood\\nlow,med,5more,more,small,low,unacc\\nlow,med,5more,more,small,med,acc\\nlow,med,5more,more,small,high,good\\nlow,med,5more,more,med,low,unacc\\nlow,med,5more,more,med,med,good\\nlow,med,5more,more,med,high,vgood\\nlow,med,5more,more,big,low,unacc\\nlow,med,5more,more,big,med,good\\nlow,med,5more,more,big,high,vgood\\nlow,low,2,2,small,low,unacc\\nlow,low,2,2,small,med,unacc\\nlow,low,2,2,small,high,unacc\\nlow,low,2,2,med,low,unacc\\nlow,low,2,2,med,med,unacc\\nlow,low,2,2,med,high,unacc\\nlow,low,2,2,big,low,unacc\\nlow,low,2,2,big,med,unacc\\nlow,low,2,2,big,high,unacc\\nlow,low,2,4,small,low,unacc\\nlow,low,2,4,small,med,acc\\nlow,low,2,4,small,high,good\\nlow,low,2,4,med,low,unacc\\nlow,low,2,4,med,med,acc\\nlow,low,2,4,med,high,good\\nlow,low,2,4,big,low,unacc\\nlow,low,2,4,big,med,good\\nlow,low,2,4,big,high,vgood\\nlow,low,2,more,small,low,unacc\\nlow,low,2,more,small,med,unacc\\nlow,low,2,more,small,high,unacc\\nlow,low,2,more,med,low,unacc\\nlow,low,2,more,med,med,acc\\nlow,low,2,more,med,high,good\\nlow,low,2,more,big,low,unacc\\nlow,low,2,more,big,med,good\\nlow,low,2,more,big,high,vgood\\nlow,low,3,2,small,low,unacc\\nlow,low,3,2,small,med,unacc\\nlow,low,3,2,small,high,unacc\\nlow,low,3,2,med,low,unacc\\nlow,low,3,2,med,med,unacc\\nlow,low,3,2,med,high,unacc\\nlow,low,3,2,big,low,unacc\\nlow,low,3,2,big,med,unacc\\nlow,low,3,2,big,high,unacc\\nlow,low,3,4,small,low,unacc\\nlow,low,3,4,small,med,acc\\nlow,low,3,4,small,high,good\\nlow,low,3,4,med,low,unacc\\nlow,low,3,4,med,med,acc\\nlow,low,3,4,med,high,good\\nlow,low,3,4,big,low,unacc\\nlow,low,3,4,big,med,good\\nlow,low,3,4,big,high,vgood\\nlow,low,3,more,small,low,unacc\\nlow,low,3,more,small,med,acc\\nlow,low,3,more,small,high,good\\nlow,low,3,more,med,low,unacc\\nlow,low,3,more,med,med,good\\nlow,low,3,more,med,high,vgood\\nlow,low,3,more,big,low,unacc\\nlow,low,3,more,big,med,good\\nlow,low,3,more,big,high,vgood\\nlow,low,4,2,small,low,unacc\\nlow,low,4,2,small,med,unacc\\nlow,low,4,2,small,high,unacc\\nlow,low,4,2,med,low,unacc\\nlow,low,4,2,med,med,unacc\\nlow,low,4,2,med,high,unacc\\nlow,low,4,2,big,low,unacc\\nlow,low,4,2,big,med,unacc\\nlow,low,4,2,big,high,unacc\\nlow,low,4,4,small,low,unacc\\nlow,low,4,4,small,med,acc\\nlow,low,4,4,small,high,good\\nlow,low,4,4,med,low,unacc\\nlow,low,4,4,med,med,good\\nlow,low,4,4,med,high,vgood\\nlow,low,4,4,big,low,unacc\\nlow,low,4,4,big,med,good\\nlow,low,4,4,big,high,vgood\\nlow,low,4,more,small,low,unacc\\nlow,low,4,more,small,med,acc\\nlow,low,4,more,small,high,good\\nlow,low,4,more,med,low,unacc\\nlow,low,4,more,med,med,good\\nlow,low,4,more,med,high,vgood\\nlow,low,4,more,big,low,unacc\\nlow,low,4,more,big,med,good\\nlow,low,4,more,big,high,vgood\\nlow,low,5more,2,small,low,unacc\\nlow,low,5more,2,small,med,unacc\\nlow,low,5more,2,small,high,unacc\\nlow,low,5more,2,med,low,unacc\\nlow,low,5more,2,med,med,unacc\\nlow,low,5more,2,med,high,unacc\\nlow,low,5more,2,big,low,unacc\\nlow,low,5more,2,big,med,unacc\\nlow,low,5more,2,big,high,unacc\\nlow,low,5more,4,small,low,unacc\\nlow,low,5more,4,small,med,acc\\nlow,low,5more,4,small,high,good\\nlow,low,5more,4,med,low,unacc\\nlow,low,5more,4,med,med,good\\nlow,low,5more,4,med,high,vgood\\nlow,low,5more,4,big,low,unacc\\nlow,low,5more,4,big,med,good\\nlow,low,5more,4,big,high,vgood\\nlow,low,5more,more,small,low,unacc\\nlow,low,5more,more,small,med,acc\\nlow,low,5more,more,small,high,good\\nlow,low,5more,more,med,low,unacc\\nlow,low,5more,more,med,med,good\\nlow,low,5more,more,med,high,vgood\\nlow,low,5more,more,big,low,unacc\\nlow,low,5more,more,big,med,good\\nlow,low,5more,more,big,high,vgood\\n'}"
            ]
          },
          "metadata": {
            "tags": []
          },
          "execution_count": 25
        }
      ]
    },
    {
      "cell_type": "code",
      "metadata": {
        "id": "WXTG8IcbNMyI",
        "colab_type": "code",
        "colab": {
          "base_uri": "https://localhost:8080/",
          "height": 669
        },
        "outputId": "fb1cc92f-5486-4bcf-abf4-eab803c0e79b"
      },
      "source": [
        "df = pd.read_csv('car.data')\n",
        "column_headers = [\n",
        "    'Buying',\n",
        "    'Maint',\n",
        "    'Doors',\n",
        "    'Persons',\n",
        "    'Lug_Boot',\n",
        "    'Safety',\n",
        "    'Unacc'\n",
        "]\n",
        "df = pd.read_csv('car.data', header=None, names=column_headers)\n",
        "\n",
        "#df.isnull().sum()\n",
        "# No null values\n",
        "\n",
        "# df.describe()\n",
        "\n",
        "df.head(20)"
      ],
      "execution_count": 46,
      "outputs": [
        {
          "output_type": "execute_result",
          "data": {
            "text/html": [
              "<div>\n",
              "<style scoped>\n",
              "    .dataframe tbody tr th:only-of-type {\n",
              "        vertical-align: middle;\n",
              "    }\n",
              "\n",
              "    .dataframe tbody tr th {\n",
              "        vertical-align: top;\n",
              "    }\n",
              "\n",
              "    .dataframe thead th {\n",
              "        text-align: right;\n",
              "    }\n",
              "</style>\n",
              "<table border=\"1\" class=\"dataframe\">\n",
              "  <thead>\n",
              "    <tr style=\"text-align: right;\">\n",
              "      <th></th>\n",
              "      <th>Buying</th>\n",
              "      <th>Maint</th>\n",
              "      <th>Doors</th>\n",
              "      <th>Persons</th>\n",
              "      <th>Lug_Boot</th>\n",
              "      <th>Safety</th>\n",
              "      <th>Unacc</th>\n",
              "    </tr>\n",
              "  </thead>\n",
              "  <tbody>\n",
              "    <tr>\n",
              "      <th>0</th>\n",
              "      <td>vhigh</td>\n",
              "      <td>vhigh</td>\n",
              "      <td>2</td>\n",
              "      <td>2</td>\n",
              "      <td>small</td>\n",
              "      <td>low</td>\n",
              "      <td>unacc</td>\n",
              "    </tr>\n",
              "    <tr>\n",
              "      <th>1</th>\n",
              "      <td>vhigh</td>\n",
              "      <td>vhigh</td>\n",
              "      <td>2</td>\n",
              "      <td>2</td>\n",
              "      <td>small</td>\n",
              "      <td>med</td>\n",
              "      <td>unacc</td>\n",
              "    </tr>\n",
              "    <tr>\n",
              "      <th>2</th>\n",
              "      <td>vhigh</td>\n",
              "      <td>vhigh</td>\n",
              "      <td>2</td>\n",
              "      <td>2</td>\n",
              "      <td>small</td>\n",
              "      <td>high</td>\n",
              "      <td>unacc</td>\n",
              "    </tr>\n",
              "    <tr>\n",
              "      <th>3</th>\n",
              "      <td>vhigh</td>\n",
              "      <td>vhigh</td>\n",
              "      <td>2</td>\n",
              "      <td>2</td>\n",
              "      <td>med</td>\n",
              "      <td>low</td>\n",
              "      <td>unacc</td>\n",
              "    </tr>\n",
              "    <tr>\n",
              "      <th>4</th>\n",
              "      <td>vhigh</td>\n",
              "      <td>vhigh</td>\n",
              "      <td>2</td>\n",
              "      <td>2</td>\n",
              "      <td>med</td>\n",
              "      <td>med</td>\n",
              "      <td>unacc</td>\n",
              "    </tr>\n",
              "    <tr>\n",
              "      <th>5</th>\n",
              "      <td>vhigh</td>\n",
              "      <td>vhigh</td>\n",
              "      <td>2</td>\n",
              "      <td>2</td>\n",
              "      <td>med</td>\n",
              "      <td>high</td>\n",
              "      <td>unacc</td>\n",
              "    </tr>\n",
              "    <tr>\n",
              "      <th>6</th>\n",
              "      <td>vhigh</td>\n",
              "      <td>vhigh</td>\n",
              "      <td>2</td>\n",
              "      <td>2</td>\n",
              "      <td>big</td>\n",
              "      <td>low</td>\n",
              "      <td>unacc</td>\n",
              "    </tr>\n",
              "    <tr>\n",
              "      <th>7</th>\n",
              "      <td>vhigh</td>\n",
              "      <td>vhigh</td>\n",
              "      <td>2</td>\n",
              "      <td>2</td>\n",
              "      <td>big</td>\n",
              "      <td>med</td>\n",
              "      <td>unacc</td>\n",
              "    </tr>\n",
              "    <tr>\n",
              "      <th>8</th>\n",
              "      <td>vhigh</td>\n",
              "      <td>vhigh</td>\n",
              "      <td>2</td>\n",
              "      <td>2</td>\n",
              "      <td>big</td>\n",
              "      <td>high</td>\n",
              "      <td>unacc</td>\n",
              "    </tr>\n",
              "    <tr>\n",
              "      <th>9</th>\n",
              "      <td>vhigh</td>\n",
              "      <td>vhigh</td>\n",
              "      <td>2</td>\n",
              "      <td>4</td>\n",
              "      <td>small</td>\n",
              "      <td>low</td>\n",
              "      <td>unacc</td>\n",
              "    </tr>\n",
              "    <tr>\n",
              "      <th>10</th>\n",
              "      <td>vhigh</td>\n",
              "      <td>vhigh</td>\n",
              "      <td>2</td>\n",
              "      <td>4</td>\n",
              "      <td>small</td>\n",
              "      <td>med</td>\n",
              "      <td>unacc</td>\n",
              "    </tr>\n",
              "    <tr>\n",
              "      <th>11</th>\n",
              "      <td>vhigh</td>\n",
              "      <td>vhigh</td>\n",
              "      <td>2</td>\n",
              "      <td>4</td>\n",
              "      <td>small</td>\n",
              "      <td>high</td>\n",
              "      <td>unacc</td>\n",
              "    </tr>\n",
              "    <tr>\n",
              "      <th>12</th>\n",
              "      <td>vhigh</td>\n",
              "      <td>vhigh</td>\n",
              "      <td>2</td>\n",
              "      <td>4</td>\n",
              "      <td>med</td>\n",
              "      <td>low</td>\n",
              "      <td>unacc</td>\n",
              "    </tr>\n",
              "    <tr>\n",
              "      <th>13</th>\n",
              "      <td>vhigh</td>\n",
              "      <td>vhigh</td>\n",
              "      <td>2</td>\n",
              "      <td>4</td>\n",
              "      <td>med</td>\n",
              "      <td>med</td>\n",
              "      <td>unacc</td>\n",
              "    </tr>\n",
              "    <tr>\n",
              "      <th>14</th>\n",
              "      <td>vhigh</td>\n",
              "      <td>vhigh</td>\n",
              "      <td>2</td>\n",
              "      <td>4</td>\n",
              "      <td>med</td>\n",
              "      <td>high</td>\n",
              "      <td>unacc</td>\n",
              "    </tr>\n",
              "    <tr>\n",
              "      <th>15</th>\n",
              "      <td>vhigh</td>\n",
              "      <td>vhigh</td>\n",
              "      <td>2</td>\n",
              "      <td>4</td>\n",
              "      <td>big</td>\n",
              "      <td>low</td>\n",
              "      <td>unacc</td>\n",
              "    </tr>\n",
              "    <tr>\n",
              "      <th>16</th>\n",
              "      <td>vhigh</td>\n",
              "      <td>vhigh</td>\n",
              "      <td>2</td>\n",
              "      <td>4</td>\n",
              "      <td>big</td>\n",
              "      <td>med</td>\n",
              "      <td>unacc</td>\n",
              "    </tr>\n",
              "    <tr>\n",
              "      <th>17</th>\n",
              "      <td>vhigh</td>\n",
              "      <td>vhigh</td>\n",
              "      <td>2</td>\n",
              "      <td>4</td>\n",
              "      <td>big</td>\n",
              "      <td>high</td>\n",
              "      <td>unacc</td>\n",
              "    </tr>\n",
              "    <tr>\n",
              "      <th>18</th>\n",
              "      <td>vhigh</td>\n",
              "      <td>vhigh</td>\n",
              "      <td>2</td>\n",
              "      <td>more</td>\n",
              "      <td>small</td>\n",
              "      <td>low</td>\n",
              "      <td>unacc</td>\n",
              "    </tr>\n",
              "    <tr>\n",
              "      <th>19</th>\n",
              "      <td>vhigh</td>\n",
              "      <td>vhigh</td>\n",
              "      <td>2</td>\n",
              "      <td>more</td>\n",
              "      <td>small</td>\n",
              "      <td>med</td>\n",
              "      <td>unacc</td>\n",
              "    </tr>\n",
              "  </tbody>\n",
              "</table>\n",
              "</div>"
            ],
            "text/plain": [
              "   Buying  Maint Doors Persons Lug_Boot Safety  Unacc\n",
              "0   vhigh  vhigh     2       2    small    low  unacc\n",
              "1   vhigh  vhigh     2       2    small    med  unacc\n",
              "2   vhigh  vhigh     2       2    small   high  unacc\n",
              "3   vhigh  vhigh     2       2      med    low  unacc\n",
              "4   vhigh  vhigh     2       2      med    med  unacc\n",
              "5   vhigh  vhigh     2       2      med   high  unacc\n",
              "6   vhigh  vhigh     2       2      big    low  unacc\n",
              "7   vhigh  vhigh     2       2      big    med  unacc\n",
              "8   vhigh  vhigh     2       2      big   high  unacc\n",
              "9   vhigh  vhigh     2       4    small    low  unacc\n",
              "10  vhigh  vhigh     2       4    small    med  unacc\n",
              "11  vhigh  vhigh     2       4    small   high  unacc\n",
              "12  vhigh  vhigh     2       4      med    low  unacc\n",
              "13  vhigh  vhigh     2       4      med    med  unacc\n",
              "14  vhigh  vhigh     2       4      med   high  unacc\n",
              "15  vhigh  vhigh     2       4      big    low  unacc\n",
              "16  vhigh  vhigh     2       4      big    med  unacc\n",
              "17  vhigh  vhigh     2       4      big   high  unacc\n",
              "18  vhigh  vhigh     2    more    small    low  unacc\n",
              "19  vhigh  vhigh     2    more    small    med  unacc"
            ]
          },
          "metadata": {
            "tags": []
          },
          "execution_count": 46
        }
      ]
    },
    {
      "cell_type": "markdown",
      "metadata": {
        "id": "mq_aQjxlM-u5",
        "colab_type": "text"
      },
      "source": [
        "## 3) Make Crosstabs of the Categorical Variables\n",
        "\n",
        "Take whichever of the above datasets has more categorical variables and use crosstabs to tabulate the different instances of the categorical variables.\n"
      ]
    },
    {
      "cell_type": "code",
      "metadata": {
        "id": "9-n9-LTM-18p",
        "colab_type": "code",
        "colab": {
          "base_uri": "https://localhost:8080/",
          "height": 204
        },
        "outputId": "a507cf03-a727-4bf2-f3ed-f764657ef870"
      },
      "source": [
        "# Your Code Here\n",
        "import numpy as np\n",
        "# pd.crosstab(df['education'], df['sex'])  <--- copied and paste to use as\n",
        "#reference to retype....\n",
        "pd.crosstab(df['Buying'], df['Safety'])\n",
        "\n",
        "#DONT KNOW WHY THE VALUE OF 144 KEEPS DISPLAYING ON MY CROSSTABS....\n",
        "#WILL RESEARCH..."
      ],
      "execution_count": 47,
      "outputs": [
        {
          "output_type": "execute_result",
          "data": {
            "text/html": [
              "<div>\n",
              "<style scoped>\n",
              "    .dataframe tbody tr th:only-of-type {\n",
              "        vertical-align: middle;\n",
              "    }\n",
              "\n",
              "    .dataframe tbody tr th {\n",
              "        vertical-align: top;\n",
              "    }\n",
              "\n",
              "    .dataframe thead th {\n",
              "        text-align: right;\n",
              "    }\n",
              "</style>\n",
              "<table border=\"1\" class=\"dataframe\">\n",
              "  <thead>\n",
              "    <tr style=\"text-align: right;\">\n",
              "      <th>Safety</th>\n",
              "      <th>high</th>\n",
              "      <th>low</th>\n",
              "      <th>med</th>\n",
              "    </tr>\n",
              "    <tr>\n",
              "      <th>Buying</th>\n",
              "      <th></th>\n",
              "      <th></th>\n",
              "      <th></th>\n",
              "    </tr>\n",
              "  </thead>\n",
              "  <tbody>\n",
              "    <tr>\n",
              "      <th>high</th>\n",
              "      <td>144</td>\n",
              "      <td>144</td>\n",
              "      <td>144</td>\n",
              "    </tr>\n",
              "    <tr>\n",
              "      <th>low</th>\n",
              "      <td>144</td>\n",
              "      <td>144</td>\n",
              "      <td>144</td>\n",
              "    </tr>\n",
              "    <tr>\n",
              "      <th>med</th>\n",
              "      <td>144</td>\n",
              "      <td>144</td>\n",
              "      <td>144</td>\n",
              "    </tr>\n",
              "    <tr>\n",
              "      <th>vhigh</th>\n",
              "      <td>144</td>\n",
              "      <td>144</td>\n",
              "      <td>144</td>\n",
              "    </tr>\n",
              "  </tbody>\n",
              "</table>\n",
              "</div>"
            ],
            "text/plain": [
              "Safety  high  low  med\n",
              "Buying                \n",
              "high     144  144  144\n",
              "low      144  144  144\n",
              "med      144  144  144\n",
              "vhigh    144  144  144"
            ]
          },
          "metadata": {
            "tags": []
          },
          "execution_count": 47
        }
      ]
    },
    {
      "cell_type": "markdown",
      "metadata": {
        "id": "OJ4t2IAk-6Vg",
        "colab_type": "text"
      },
      "source": [
        "## 4) Explore the distributions of the variables of the dataset using:\n",
        "- Histograms\n",
        "- Scatterplots\n",
        "- Density Plots"
      ]
    },
    {
      "cell_type": "code",
      "metadata": {
        "id": "DhES5WmH_NFt",
        "colab_type": "code",
        "colab": {
          "base_uri": "https://localhost:8080/",
          "height": 404
        },
        "outputId": "3aac763a-e9f3-4bcf-fdb6-8858cc1e3c8e"
      },
      "source": [
        "# Your Code Here\n",
        "\n",
        "#df.plot.scatter('Persons', 'Doors'); <-- Not enough numerical data for scatter\n",
        "#df['Doors'].plot.density();\n",
        "df.dtypes\n",
        "print(df.dtypes)\n",
        "#since all of my data types are objects and not integers, I can not plot on a \n",
        "#scatterplot or a density plot\n",
        "\n",
        "df['Persons'].hist(bins=144);"
      ],
      "execution_count": 78,
      "outputs": [
        {
          "output_type": "stream",
          "text": [
            "Buying      object\n",
            "Maint       object\n",
            "Doors       object\n",
            "Persons     object\n",
            "Lug_Boot    object\n",
            "Safety      object\n",
            "Unacc       object\n",
            "dtype: object\n"
          ],
          "name": "stdout"
        },
        {
          "output_type": "display_data",
          "data": {
            "image/png": "[encoded data removed]",
            "text/plain": [
              "<Figure size 432x288 with 1 Axes>"
            ]
          },
          "metadata": {
            "tags": []
          }
        }
      ]
    },
    {
      "cell_type": "markdown",
      "metadata": {
        "id": "LXXTzpgp_N0q",
        "colab_type": "text"
      },
      "source": [
        "## 5) Create at least one visualization from a crosstab:\n",
        "\n",
        "Remember that a crosstab is just a dataframe and can be manipulated in the same way by row index, column, index, or column/row/cell position.\n"
      ]
    },
    {
      "cell_type": "code",
      "metadata": {
        "id": "kBQKXHUa_VxM",
        "colab_type": "code",
        "colab": {
          "base_uri": "https://localhost:8080/",
          "height": 297
        },
        "outputId": "0607278c-2253-4cd4-b0f9-995a0c5e1bf0"
      },
      "source": [
        "# Your Code Here\n",
        "#pd.crosstab(df['education'], df['sex']).plot(kind='bar', stacked='true');\n",
        "#using the above code as reference to retype with my own parameters...\n",
        "\n",
        "pd.crosstab(df['Buying'], df['Maint']).plot(kind='bar', stacked='true');"
      ],
      "execution_count": 80,
      "outputs": [
        {
          "output_type": "display_data",
          "data": {
            "image/png": "[encoded data removed]",
            "text/plain": [
              "<Figure size 432x288 with 1 Axes>"
            ]
          },
          "metadata": {
            "tags": []
          }
        }
      ]
    },
    {
      "cell_type": "markdown",
      "metadata": {
        "id": "MZCxTwKuReV9",
        "colab_type": "text"
      },
      "source": [
        "## Stretch Goals \n",
        "\n",
        "The following additional study tasks are optional, they are intended to give you an opportunity to stretch yourself beyond the main requirements of the assignment. You can pick and choose from the below, you do not need to complete them in any particular order.\n",
        "\n",
        "### - Practice Exploring other Datasets\n",
        "\n",
        "### -  Try using the Seaborn plotting library's \"Pairplot\" functionality in order to explore all of the possible histograms and scatterplots of your dataset all at once:\n",
        "\n",
        "[Seaborn Pairplot](https://seaborn.pydata.org/generated/seaborn.pairplot.html)\n",
        "\n",
        "### - Turn some of the continuous variables into categorical variables by binning the values using:\n",
        "- [pd.cut()](https://pandas.pydata.org/pandas-docs/version/0.23.4/generated/pandas.cut.html)\n",
        "- [pd.qcut()](https://pandas.pydata.org/pandas-docs/stable/reference/api/pandas.qcut.html)\n",
        "- <https://stackoverflow.com/questions/30211923/what-is-the-difference-between-pandas-qcut-and-pandas-cut>\n",
        "\n",
        "And then use crosstabs to compare/visualize these binned variables against the other variables.\n",
        "\n",
        "\n",
        "### - Other types and sources of data\n",
        "Not all data comes in a nice single file - for example, image classification involves handling lots of image files. You still will probably want labels for them, so you may have tabular data in addition to the image blobs - and the images may be reduced in resolution and even fit in a regular csv as a bunch of numbers.\n",
        "\n",
        "If you're interested in natural language processing and analyzing text, that is another example where, while it can be put in a csv, you may end up loading much larger raw data and generating features that can then be thought of in a more standard tabular fashion.\n",
        "\n",
        "Overall you will in the course of learning data science deal with loading data in a variety of ways. Another common way to get data is from a database - most modern applications are backed by one or more databases, which you can query to get data to analyze. We'll cover this more in our data engineering unit.\n",
        "\n",
        "How does data get in the database? Most applications generate logs - text files with lots and lots of records of each use of the application. Databases are often populated based on these files, but in some situations you may directly analyze log files. The usual way to do this is with command line (Unix) tools - command lines are intimidating, so don't expect to learn them all at once, but depending on your interests it can be useful to practice.\n",
        "\n",
        "One last major source of data is APIs: https://github.com/toddmotto/public-apis\n",
        "\n",
        "API stands for Application Programming Interface, and while originally meant e.g. the way an application interfaced with the GUI or other aspects of an operating system, now it largely refers to online services that let you query and retrieve data. You can essentially think of most of them as \"somebody else's database\" - you have (usually limited) access.\n",
        "\n",
        "*Stretch goal* - research one of the above extended forms of data/data loading. See if you can get a basic example working in a notebook. Image, text, or (public) APIs are probably more tractable - databases are interesting, but there aren't many publicly accessible and they require a great deal of setup."
      ]
    },
    {
      "cell_type": "code",
      "metadata": {
        "id": "f4QP6--JBXNK",
        "colab_type": "code",
        "colab": {}
      },
      "source": [
        "fires = 'https://archive.ics.uci.edu/ml/machine-learning-databases/forest-fires/forestfires.csv'\n",
        "\n",
        "df2 = pd.read_csv(fires)"
      ],
      "execution_count": 0,
      "outputs": []
    },
    {
      "cell_type": "code",
      "metadata": {
        "id": "AjPLwTszXjfB",
        "colab_type": "code",
        "colab": {
          "base_uri": "https://localhost:8080/",
          "height": 204
        },
        "outputId": "2bf2bed6-66d1-41dd-eb18-9be2e979ad70"
      },
      "source": [
        "df2.head()"
      ],
      "execution_count": 83,
      "outputs": [
        {
          "output_type": "execute_result",
          "data": {
            "text/html": [
              "<div>\n",
              "<style scoped>\n",
              "    .dataframe tbody tr th:only-of-type {\n",
              "        vertical-align: middle;\n",
              "    }\n",
              "\n",
              "    .dataframe tbody tr th {\n",
              "        vertical-align: top;\n",
              "    }\n",
              "\n",
              "    .dataframe thead th {\n",
              "        text-align: right;\n",
              "    }\n",
              "</style>\n",
              "<table border=\"1\" class=\"dataframe\">\n",
              "  <thead>\n",
              "    <tr style=\"text-align: right;\">\n",
              "      <th></th>\n",
              "      <th>X</th>\n",
              "      <th>Y</th>\n",
              "      <th>month</th>\n",
              "      <th>day</th>\n",
              "      <th>FFMC</th>\n",
              "      <th>DMC</th>\n",
              "      <th>DC</th>\n",
              "      <th>ISI</th>\n",
              "      <th>temp</th>\n",
              "      <th>RH</th>\n",
              "      <th>wind</th>\n",
              "      <th>rain</th>\n",
              "      <th>area</th>\n",
              "    </tr>\n",
              "  </thead>\n",
              "  <tbody>\n",
              "    <tr>\n",
              "      <th>0</th>\n",
              "      <td>7</td>\n",
              "      <td>5</td>\n",
              "      <td>mar</td>\n",
              "      <td>fri</td>\n",
              "      <td>86.2</td>\n",
              "      <td>26.2</td>\n",
              "      <td>94.3</td>\n",
              "      <td>5.1</td>\n",
              "      <td>8.2</td>\n",
              "      <td>51</td>\n",
              "      <td>6.7</td>\n",
              "      <td>0.0</td>\n",
              "      <td>0.0</td>\n",
              "    </tr>\n",
              "    <tr>\n",
              "      <th>1</th>\n",
              "      <td>7</td>\n",
              "      <td>4</td>\n",
              "      <td>oct</td>\n",
              "      <td>tue</td>\n",
              "      <td>90.6</td>\n",
              "      <td>35.4</td>\n",
              "      <td>669.1</td>\n",
              "      <td>6.7</td>\n",
              "      <td>18.0</td>\n",
              "      <td>33</td>\n",
              "      <td>0.9</td>\n",
              "      <td>0.0</td>\n",
              "      <td>0.0</td>\n",
              "    </tr>\n",
              "    <tr>\n",
              "      <th>2</th>\n",
              "      <td>7</td>\n",
              "      <td>4</td>\n",
              "      <td>oct</td>\n",
              "      <td>sat</td>\n",
              "      <td>90.6</td>\n",
              "      <td>43.7</td>\n",
              "      <td>686.9</td>\n",
              "      <td>6.7</td>\n",
              "      <td>14.6</td>\n",
              "      <td>33</td>\n",
              "      <td>1.3</td>\n",
              "      <td>0.0</td>\n",
              "      <td>0.0</td>\n",
              "    </tr>\n",
              "    <tr>\n",
              "      <th>3</th>\n",
              "      <td>8</td>\n",
              "      <td>6</td>\n",
              "      <td>mar</td>\n",
              "      <td>fri</td>\n",
              "      <td>91.7</td>\n",
              "      <td>33.3</td>\n",
              "      <td>77.5</td>\n",
              "      <td>9.0</td>\n",
              "      <td>8.3</td>\n",
              "      <td>97</td>\n",
              "      <td>4.0</td>\n",
              "      <td>0.2</td>\n",
              "      <td>0.0</td>\n",
              "    </tr>\n",
              "    <tr>\n",
              "      <th>4</th>\n",
              "      <td>8</td>\n",
              "      <td>6</td>\n",
              "      <td>mar</td>\n",
              "      <td>sun</td>\n",
              "      <td>89.3</td>\n",
              "      <td>51.3</td>\n",
              "      <td>102.2</td>\n",
              "      <td>9.6</td>\n",
              "      <td>11.4</td>\n",
              "      <td>99</td>\n",
              "      <td>1.8</td>\n",
              "      <td>0.0</td>\n",
              "      <td>0.0</td>\n",
              "    </tr>\n",
              "  </tbody>\n",
              "</table>\n",
              "</div>"
            ],
            "text/plain": [
              "   X  Y month  day  FFMC   DMC     DC  ISI  temp  RH  wind  rain  area\n",
              "0  7  5   mar  fri  86.2  26.2   94.3  5.1   8.2  51   6.7   0.0   0.0\n",
              "1  7  4   oct  tue  90.6  35.4  669.1  6.7  18.0  33   0.9   0.0   0.0\n",
              "2  7  4   oct  sat  90.6  43.7  686.9  6.7  14.6  33   1.3   0.0   0.0\n",
              "3  8  6   mar  fri  91.7  33.3   77.5  9.0   8.3  97   4.0   0.2   0.0\n",
              "4  8  6   mar  sun  89.3  51.3  102.2  9.6  11.4  99   1.8   0.0   0.0"
            ]
          },
          "metadata": {
            "tags": []
          },
          "execution_count": 83
        }
      ]
    },
    {
      "cell_type": "code",
      "metadata": {
        "id": "qNTfYqY9X680",
        "colab_type": "code",
        "colab": {
          "base_uri": "https://localhost:8080/",
          "height": 255
        },
        "outputId": "15a6c3e6-d65f-4939-8942-2abaa9558e98"
      },
      "source": [
        "df2.isnull().sum()"
      ],
      "execution_count": 85,
      "outputs": [
        {
          "output_type": "execute_result",
          "data": {
            "text/plain": [
              "X        0\n",
              "Y        0\n",
              "month    0\n",
              "day      0\n",
              "FFMC     0\n",
              "DMC      0\n",
              "DC       0\n",
              "ISI      0\n",
              "temp     0\n",
              "RH       0\n",
              "wind     0\n",
              "rain     0\n",
              "area     0\n",
              "dtype: int64"
            ]
          },
          "metadata": {
            "tags": []
          },
          "execution_count": 85
        }
      ]
    },
    {
      "cell_type": "code",
      "metadata": {
        "id": "bxtjlYXUYMt9",
        "colab_type": "code",
        "colab": {
          "base_uri": "https://localhost:8080/",
          "height": 296
        },
        "outputId": "83946a0b-f33c-4f9a-f660-ef8075028e40"
      },
      "source": [
        "df2.plot.scatter('temp', 'area')"
      ],
      "execution_count": 89,
      "outputs": [
        {
          "output_type": "execute_result",
          "data": {
            "text/plain": [
              "<matplotlib.axes._subplots.AxesSubplot at 0x7f4fc929a748>"
            ]
          },
          "metadata": {
            "tags": []
          },
          "execution_count": 89
        },
        {
          "output_type": "display_data",
          "data": {
            "image/png": "[encoded data removed]",
            "text/plain": [
              "<Figure size 432x288 with 1 Axes>"
            ]
          },
          "metadata": {
            "tags": []
          }
        }
      ]
    },
    {
      "cell_type": "code",
      "metadata": {
        "id": "vRydGSUaa0JC",
        "colab_type": "code",
        "colab": {
          "base_uri": "https://localhost:8080/",
          "height": 357
        },
        "outputId": "cb0f1cb1-cf6f-4d3e-e49a-75be921a6c86"
      },
      "source": [
        "import seaborn as sns\n",
        "sns.set(style=\"ticks\", color_codes=True)\n",
        "temps = sns.load_dataset(\"temp\")\n",
        "g = sns.pairplot(temps)\n",
        "\n",
        "#I have confusion on how to properly use the seaborn library...will do further \n",
        "#research..."
      ],
      "execution_count": 92,
      "outputs": [
        {
          "output_type": "error",
          "ename": "HTTPError",
          "evalue": "ignored",
          "traceback": [
            "\u001b[0;31m---------------------------------------------------------------------------\u001b[0m",
            "\u001b[0;31mHTTPError\u001b[0m                                 Traceback (most recent call last)",
            "\u001b[0;32m<ipython-input-92-dd21dbf9611b>\u001b[0m in \u001b[0;36m<module>\u001b[0;34m()\u001b[0m\n\u001b[1;32m      1\u001b[0m \u001b[0;32mimport\u001b[0m \u001b[0mseaborn\u001b[0m \u001b[0;32mas\u001b[0m \u001b[0msns\u001b[0m\u001b[0;34m\u001b[0m\u001b[0;34m\u001b[0m\u001b[0m\n\u001b[1;32m      2\u001b[0m \u001b[0msns\u001b[0m\u001b[0;34m.\u001b[0m\u001b[0mset\u001b[0m\u001b[0;34m(\u001b[0m\u001b[0mstyle\u001b[0m\u001b[0;34m=\u001b[0m\u001b[0;34m\"ticks\"\u001b[0m\u001b[0;34m,\u001b[0m \u001b[0mcolor_codes\u001b[0m\u001b[0;34m=\u001b[0m\u001b[0;32mTrue\u001b[0m\u001b[0;34m)\u001b[0m\u001b[0;34m\u001b[0m\u001b[0;34m\u001b[0m\u001b[0m\n\u001b[0;32m----> 3\u001b[0;31m \u001b[0mtemps\u001b[0m \u001b[0;34m=\u001b[0m \u001b[0msns\u001b[0m\u001b[0;34m.\u001b[0m\u001b[0mload_dataset\u001b[0m\u001b[0;34m(\u001b[0m\u001b[0;34m\"temp\"\u001b[0m\u001b[0;34m)\u001b[0m\u001b[0;34m\u001b[0m\u001b[0;34m\u001b[0m\u001b[0m\n\u001b[0m\u001b[1;32m      4\u001b[0m \u001b[0mg\u001b[0m \u001b[0;34m=\u001b[0m \u001b[0msns\u001b[0m\u001b[0;34m.\u001b[0m\u001b[0mpairplot\u001b[0m\u001b[0;34m(\u001b[0m\u001b[0mtemps\u001b[0m\u001b[0;34m)\u001b[0m\u001b[0;34m\u001b[0m\u001b[0;34m\u001b[0m\u001b[0m\n",
            "\u001b[0;32m/usr/local/lib/python3.6/dist-packages/seaborn/utils.py\u001b[0m in \u001b[0;36mload_dataset\u001b[0;34m(name, cache, data_home, **kws)\u001b[0m\n\u001b[1;32m    426\u001b[0m                                   os.path.basename(full_path))\n\u001b[1;32m    427\u001b[0m         \u001b[0;32mif\u001b[0m \u001b[0;32mnot\u001b[0m \u001b[0mos\u001b[0m\u001b[0;34m.\u001b[0m\u001b[0mpath\u001b[0m\u001b[0;34m.\u001b[0m\u001b[0mexists\u001b[0m\u001b[0;34m(\u001b[0m\u001b[0mcache_path\u001b[0m\u001b[0;34m)\u001b[0m\u001b[0;34m:\u001b[0m\u001b[0;34m\u001b[0m\u001b[0;34m\u001b[0m\u001b[0m\n\u001b[0;32m--> 428\u001b[0;31m             \u001b[0murlretrieve\u001b[0m\u001b[0;34m(\u001b[0m\u001b[0mfull_path\u001b[0m\u001b[0;34m,\u001b[0m \u001b[0mcache_path\u001b[0m\u001b[0;34m)\u001b[0m\u001b[0;34m\u001b[0m\u001b[0;34m\u001b[0m\u001b[0m\n\u001b[0m\u001b[1;32m    429\u001b[0m         \u001b[0mfull_path\u001b[0m \u001b[0;34m=\u001b[0m \u001b[0mcache_path\u001b[0m\u001b[0;34m\u001b[0m\u001b[0;34m\u001b[0m\u001b[0m\n\u001b[1;32m    430\u001b[0m \u001b[0;34m\u001b[0m\u001b[0m\n",
            "\u001b[0;32m/usr/lib/python3.6/urllib/request.py\u001b[0m in \u001b[0;36murlretrieve\u001b[0;34m(url, filename, reporthook, data)\u001b[0m\n\u001b[1;32m    246\u001b[0m     \u001b[0murl_type\u001b[0m\u001b[0;34m,\u001b[0m \u001b[0mpath\u001b[0m \u001b[0;34m=\u001b[0m \u001b[0msplittype\u001b[0m\u001b[0;34m(\u001b[0m\u001b[0murl\u001b[0m\u001b[0;34m)\u001b[0m\u001b[0;34m\u001b[0m\u001b[0;34m\u001b[0m\u001b[0m\n\u001b[1;32m    247\u001b[0m \u001b[0;34m\u001b[0m\u001b[0m\n\u001b[0;32m--> 248\u001b[0;31m     \u001b[0;32mwith\u001b[0m \u001b[0mcontextlib\u001b[0m\u001b[0;34m.\u001b[0m\u001b[0mclosing\u001b[0m\u001b[0;34m(\u001b[0m\u001b[0murlopen\u001b[0m\u001b[0;34m(\u001b[0m\u001b[0murl\u001b[0m\u001b[0;34m,\u001b[0m \u001b[0mdata\u001b[0m\u001b[0;34m)\u001b[0m\u001b[0;34m)\u001b[0m \u001b[0;32mas\u001b[0m \u001b[0mfp\u001b[0m\u001b[0;34m:\u001b[0m\u001b[0;34m\u001b[0m\u001b[0;34m\u001b[0m\u001b[0m\n\u001b[0m\u001b[1;32m    249\u001b[0m         \u001b[0mheaders\u001b[0m \u001b[0;34m=\u001b[0m \u001b[0mfp\u001b[0m\u001b[0;34m.\u001b[0m\u001b[0minfo\u001b[0m\u001b[0;34m(\u001b[0m\u001b[0;34m)\u001b[0m\u001b[0;34m\u001b[0m\u001b[0;34m\u001b[0m\u001b[0m\n\u001b[1;32m    250\u001b[0m \u001b[0;34m\u001b[0m\u001b[0m\n",
            "\u001b[0;32m/usr/lib/python3.6/urllib/request.py\u001b[0m in \u001b[0;36murlopen\u001b[0;34m(url, data, timeout, cafile, capath, cadefault, context)\u001b[0m\n\u001b[1;32m    221\u001b[0m     \u001b[0;32melse\u001b[0m\u001b[0;34m:\u001b[0m\u001b[0;34m\u001b[0m\u001b[0;34m\u001b[0m\u001b[0m\n\u001b[1;32m    222\u001b[0m         \u001b[0mopener\u001b[0m \u001b[0;34m=\u001b[0m \u001b[0m_opener\u001b[0m\u001b[0;34m\u001b[0m\u001b[0;34m\u001b[0m\u001b[0m\n\u001b[0;32m--> 223\u001b[0;31m     \u001b[0;32mreturn\u001b[0m \u001b[0mopener\u001b[0m\u001b[0;34m.\u001b[0m\u001b[0mopen\u001b[0m\u001b[0;34m(\u001b[0m\u001b[0murl\u001b[0m\u001b[0;34m,\u001b[0m \u001b[0mdata\u001b[0m\u001b[0;34m,\u001b[0m \u001b[0mtimeout\u001b[0m\u001b[0;34m)\u001b[0m\u001b[0;34m\u001b[0m\u001b[0;34m\u001b[0m\u001b[0m\n\u001b[0m\u001b[1;32m    224\u001b[0m \u001b[0;34m\u001b[0m\u001b[0m\n\u001b[1;32m    225\u001b[0m \u001b[0;32mdef\u001b[0m \u001b[0minstall_opener\u001b[0m\u001b[0;34m(\u001b[0m\u001b[0mopener\u001b[0m\u001b[0;34m)\u001b[0m\u001b[0;34m:\u001b[0m\u001b[0;34m\u001b[0m\u001b[0;34m\u001b[0m\u001b[0m\n",
            "\u001b[0;32m/usr/lib/python3.6/urllib/request.py\u001b[0m in \u001b[0;36mopen\u001b[0;34m(self, fullurl, data, timeout)\u001b[0m\n\u001b[1;32m    530\u001b[0m         \u001b[0;32mfor\u001b[0m \u001b[0mprocessor\u001b[0m \u001b[0;32min\u001b[0m \u001b[0mself\u001b[0m\u001b[0;34m.\u001b[0m\u001b[0mprocess_response\u001b[0m\u001b[0;34m.\u001b[0m\u001b[0mget\u001b[0m\u001b[0;34m(\u001b[0m\u001b[0mprotocol\u001b[0m\u001b[0;34m,\u001b[0m \u001b[0;34m[\u001b[0m\u001b[0;34m]\u001b[0m\u001b[0;34m)\u001b[0m\u001b[0;34m:\u001b[0m\u001b[0;34m\u001b[0m\u001b[0;34m\u001b[0m\u001b[0m\n\u001b[1;32m    531\u001b[0m             \u001b[0mmeth\u001b[0m \u001b[0;34m=\u001b[0m \u001b[0mgetattr\u001b[0m\u001b[0;34m(\u001b[0m\u001b[0mprocessor\u001b[0m\u001b[0;34m,\u001b[0m \u001b[0mmeth_name\u001b[0m\u001b[0;34m)\u001b[0m\u001b[0;34m\u001b[0m\u001b[0;34m\u001b[0m\u001b[0m\n\u001b[0;32m--> 532\u001b[0;31m             \u001b[0mresponse\u001b[0m \u001b[0;34m=\u001b[0m \u001b[0mmeth\u001b[0m\u001b[0;34m(\u001b[0m\u001b[0mreq\u001b[0m\u001b[0;34m,\u001b[0m \u001b[0mresponse\u001b[0m\u001b[0;34m)\u001b[0m\u001b[0;34m\u001b[0m\u001b[0;34m\u001b[0m\u001b[0m\n\u001b[0m\u001b[1;32m    533\u001b[0m \u001b[0;34m\u001b[0m\u001b[0m\n\u001b[1;32m    534\u001b[0m         \u001b[0;32mreturn\u001b[0m \u001b[0mresponse\u001b[0m\u001b[0;34m\u001b[0m\u001b[0;34m\u001b[0m\u001b[0m\n",
            "\u001b[0;32m/usr/lib/python3.6/urllib/request.py\u001b[0m in \u001b[0;36mhttp_response\u001b[0;34m(self, request, response)\u001b[0m\n\u001b[1;32m    640\u001b[0m         \u001b[0;32mif\u001b[0m \u001b[0;32mnot\u001b[0m \u001b[0;34m(\u001b[0m\u001b[0;36m200\u001b[0m \u001b[0;34m<=\u001b[0m \u001b[0mcode\u001b[0m \u001b[0;34m<\u001b[0m \u001b[0;36m300\u001b[0m\u001b[0;34m)\u001b[0m\u001b[0;34m:\u001b[0m\u001b[0;34m\u001b[0m\u001b[0;34m\u001b[0m\u001b[0m\n\u001b[1;32m    641\u001b[0m             response = self.parent.error(\n\u001b[0;32m--> 642\u001b[0;31m                 'http', request, response, code, msg, hdrs)\n\u001b[0m\u001b[1;32m    643\u001b[0m \u001b[0;34m\u001b[0m\u001b[0m\n\u001b[1;32m    644\u001b[0m         \u001b[0;32mreturn\u001b[0m \u001b[0mresponse\u001b[0m\u001b[0;34m\u001b[0m\u001b[0;34m\u001b[0m\u001b[0m\n",
            "\u001b[0;32m/usr/lib/python3.6/urllib/request.py\u001b[0m in \u001b[0;36merror\u001b[0;34m(self, proto, *args)\u001b[0m\n\u001b[1;32m    568\u001b[0m         \u001b[0;32mif\u001b[0m \u001b[0mhttp_err\u001b[0m\u001b[0;34m:\u001b[0m\u001b[0;34m\u001b[0m\u001b[0;34m\u001b[0m\u001b[0m\n\u001b[1;32m    569\u001b[0m             \u001b[0margs\u001b[0m \u001b[0;34m=\u001b[0m \u001b[0;34m(\u001b[0m\u001b[0mdict\u001b[0m\u001b[0;34m,\u001b[0m \u001b[0;34m'default'\u001b[0m\u001b[0;34m,\u001b[0m \u001b[0;34m'http_error_default'\u001b[0m\u001b[0;34m)\u001b[0m \u001b[0;34m+\u001b[0m \u001b[0morig_args\u001b[0m\u001b[0;34m\u001b[0m\u001b[0;34m\u001b[0m\u001b[0m\n\u001b[0;32m--> 570\u001b[0;31m             \u001b[0;32mreturn\u001b[0m \u001b[0mself\u001b[0m\u001b[0;34m.\u001b[0m\u001b[0m_call_chain\u001b[0m\u001b[0;34m(\u001b[0m\u001b[0;34m*\u001b[0m\u001b[0margs\u001b[0m\u001b[0;34m)\u001b[0m\u001b[0;34m\u001b[0m\u001b[0;34m\u001b[0m\u001b[0m\n\u001b[0m\u001b[1;32m    571\u001b[0m \u001b[0;34m\u001b[0m\u001b[0m\n\u001b[1;32m    572\u001b[0m \u001b[0;31m# XXX probably also want an abstract factory that knows when it makes\u001b[0m\u001b[0;34m\u001b[0m\u001b[0;34m\u001b[0m\u001b[0;34m\u001b[0m\u001b[0m\n",
            "\u001b[0;32m/usr/lib/python3.6/urllib/request.py\u001b[0m in \u001b[0;36m_call_chain\u001b[0;34m(self, chain, kind, meth_name, *args)\u001b[0m\n\u001b[1;32m    502\u001b[0m         \u001b[0;32mfor\u001b[0m \u001b[0mhandler\u001b[0m \u001b[0;32min\u001b[0m \u001b[0mhandlers\u001b[0m\u001b[0;34m:\u001b[0m\u001b[0;34m\u001b[0m\u001b[0;34m\u001b[0m\u001b[0m\n\u001b[1;32m    503\u001b[0m             \u001b[0mfunc\u001b[0m \u001b[0;34m=\u001b[0m \u001b[0mgetattr\u001b[0m\u001b[0;34m(\u001b[0m\u001b[0mhandler\u001b[0m\u001b[0;34m,\u001b[0m \u001b[0mmeth_name\u001b[0m\u001b[0;34m)\u001b[0m\u001b[0;34m\u001b[0m\u001b[0;34m\u001b[0m\u001b[0m\n\u001b[0;32m--> 504\u001b[0;31m             \u001b[0mresult\u001b[0m \u001b[0;34m=\u001b[0m \u001b[0mfunc\u001b[0m\u001b[0;34m(\u001b[0m\u001b[0;34m*\u001b[0m\u001b[0margs\u001b[0m\u001b[0;34m)\u001b[0m\u001b[0;34m\u001b[0m\u001b[0;34m\u001b[0m\u001b[0m\n\u001b[0m\u001b[1;32m    505\u001b[0m             \u001b[0;32mif\u001b[0m \u001b[0mresult\u001b[0m \u001b[0;32mis\u001b[0m \u001b[0;32mnot\u001b[0m \u001b[0;32mNone\u001b[0m\u001b[0;34m:\u001b[0m\u001b[0;34m\u001b[0m\u001b[0;34m\u001b[0m\u001b[0m\n\u001b[1;32m    506\u001b[0m                 \u001b[0;32mreturn\u001b[0m \u001b[0mresult\u001b[0m\u001b[0;34m\u001b[0m\u001b[0;34m\u001b[0m\u001b[0m\n",
            "\u001b[0;32m/usr/lib/python3.6/urllib/request.py\u001b[0m in \u001b[0;36mhttp_error_default\u001b[0;34m(self, req, fp, code, msg, hdrs)\u001b[0m\n\u001b[1;32m    648\u001b[0m \u001b[0;32mclass\u001b[0m \u001b[0mHTTPDefaultErrorHandler\u001b[0m\u001b[0;34m(\u001b[0m\u001b[0mBaseHandler\u001b[0m\u001b[0;34m)\u001b[0m\u001b[0;34m:\u001b[0m\u001b[0;34m\u001b[0m\u001b[0;34m\u001b[0m\u001b[0m\n\u001b[1;32m    649\u001b[0m     \u001b[0;32mdef\u001b[0m \u001b[0mhttp_error_default\u001b[0m\u001b[0;34m(\u001b[0m\u001b[0mself\u001b[0m\u001b[0;34m,\u001b[0m \u001b[0mreq\u001b[0m\u001b[0;34m,\u001b[0m \u001b[0mfp\u001b[0m\u001b[0;34m,\u001b[0m \u001b[0mcode\u001b[0m\u001b[0;34m,\u001b[0m \u001b[0mmsg\u001b[0m\u001b[0;34m,\u001b[0m \u001b[0mhdrs\u001b[0m\u001b[0;34m)\u001b[0m\u001b[0;34m:\u001b[0m\u001b[0;34m\u001b[0m\u001b[0;34m\u001b[0m\u001b[0m\n\u001b[0;32m--> 650\u001b[0;31m         \u001b[0;32mraise\u001b[0m \u001b[0mHTTPError\u001b[0m\u001b[0;34m(\u001b[0m\u001b[0mreq\u001b[0m\u001b[0;34m.\u001b[0m\u001b[0mfull_url\u001b[0m\u001b[0;34m,\u001b[0m \u001b[0mcode\u001b[0m\u001b[0;34m,\u001b[0m \u001b[0mmsg\u001b[0m\u001b[0;34m,\u001b[0m \u001b[0mhdrs\u001b[0m\u001b[0;34m,\u001b[0m \u001b[0mfp\u001b[0m\u001b[0;34m)\u001b[0m\u001b[0;34m\u001b[0m\u001b[0;34m\u001b[0m\u001b[0m\n\u001b[0m\u001b[1;32m    651\u001b[0m \u001b[0;34m\u001b[0m\u001b[0m\n\u001b[1;32m    652\u001b[0m \u001b[0;32mclass\u001b[0m \u001b[0mHTTPRedirectHandler\u001b[0m\u001b[0;34m(\u001b[0m\u001b[0mBaseHandler\u001b[0m\u001b[0;34m)\u001b[0m\u001b[0;34m:\u001b[0m\u001b[0;34m\u001b[0m\u001b[0;34m\u001b[0m\u001b[0m\n",
            "\u001b[0;31mHTTPError\u001b[0m: HTTP Error 404: Not Found"
          ]
        }
      ]
    },
    {
      "cell_type": "code",
      "metadata": {
        "id": "DnWqrX6ybaL_",
        "colab_type": "code",
        "colab": {}
      },
      "source": [
        ""
      ],
      "execution_count": 0,
      "outputs": []
    }
  ]
}